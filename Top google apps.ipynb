{
 "cells": [
  {
   "cell_type": "markdown",
   "metadata": {},
   "source": [
    "![](https://play.google.com/about/howplayworks/static/assets/social/share_google_play_logo.png)\n",
    "# Exploratory Data Analysis- A Case study\n",
    "\n",
    "## Analyzing Top Apps on Google Play\n",
    "\n",
    "In recent times, A lot of apps have found their way into Google play store. Some of which are very beneficial while others are not. In this analysis we will be analyzing the top apps on Google play."
   ]
  },
  {
   "cell_type": "markdown",
   "metadata": {},
   "source": [
    "## Downloading the Dataset\n",
    "\n",
    "The dataset i will be using is gotten from [Kaggle](https://www.kaggle.com/datasets/alexandrparkhomenko/top-apps-in-google-play)"
   ]
  },
  {
   "cell_type": "code",
   "execution_count": 1,
   "metadata": {},
   "outputs": [],
   "source": [
    "!pip install jovian opendatasets --upgrade --quiet"
   ]
  },
  {
   "cell_type": "markdown",
   "metadata": {},
   "source": [
    "Let's begin by downloading the data, and listing the files within the dataset."
   ]
  },
  {
   "cell_type": "code",
   "execution_count": 2,
   "metadata": {},
   "outputs": [],
   "source": [
    "# loading the dataset using the kaggle link\n",
    "dataset_url = 'https://www.kaggle.com/datasets/alexandrparkhomenko/top-apps-in-google-play' "
   ]
  },
  {
   "cell_type": "code",
   "execution_count": 3,
   "metadata": {},
   "outputs": [
    {
     "name": "stdout",
     "output_type": "stream",
     "text": [
      "Please provide your Kaggle credentials to download this dataset. Learn more: http://bit.ly/kaggle-creds\n",
      "Your Kaggle username: nuel000\n",
      "Your Kaggle Key: ········\n",
      "Downloading top-apps-in-google-play.zip to ./top-apps-in-google-play\n"
     ]
    },
    {
     "name": "stderr",
     "output_type": "stream",
     "text": [
      "100%|██████████| 3.08k/3.08k [00:00<00:00, 2.57MB/s]"
     ]
    },
    {
     "name": "stdout",
     "output_type": "stream",
     "text": [
      "\n"
     ]
    },
    {
     "name": "stderr",
     "output_type": "stream",
     "text": [
      "\n"
     ]
    }
   ],
   "source": [
    "import opendatasets as od\n",
    "od.download(dataset_url)"
   ]
  },
  {
   "cell_type": "markdown",
   "metadata": {},
   "source": [
    "The dataset has been downloaded and extracted."
   ]
  },
  {
   "cell_type": "code",
   "execution_count": 34,
   "metadata": {},
   "outputs": [],
   "source": [
    "# lets load the dataset from the directory\n",
    "data_dir = './top-apps-in-google-play'"
   ]
  },
  {
   "cell_type": "code",
   "execution_count": 35,
   "metadata": {},
   "outputs": [
    {
     "data": {
      "text/plain": [
       "['Top-Apps-in-Google-Play.csv']"
      ]
     },
     "execution_count": 35,
     "metadata": {},
     "output_type": "execute_result"
    }
   ],
   "source": [
    "import os\n",
    "os.listdir(data_dir)"
   ]
  },
  {
   "cell_type": "markdown",
   "metadata": {},
   "source": [
    "Saving my notebook on jovian platform"
   ]
  },
  {
   "cell_type": "code",
   "execution_count": 36,
   "metadata": {},
   "outputs": [],
   "source": [
    "project_name = \"top apps in google play\""
   ]
  },
  {
   "cell_type": "code",
   "execution_count": 37,
   "metadata": {},
   "outputs": [],
   "source": [
    "!pip install jovian --upgrade -q"
   ]
  },
  {
   "cell_type": "code",
   "execution_count": 38,
   "metadata": {},
   "outputs": [],
   "source": [
    "import jovian"
   ]
  },
  {
   "cell_type": "code",
   "execution_count": 39,
   "metadata": {},
   "outputs": [
    {
     "data": {
      "application/javascript": [
       "window.require && require([\"base/js/namespace\"],function(Jupyter){Jupyter.notebook.save_checkpoint()})"
      ],
      "text/plain": [
       "<IPython.core.display.Javascript object>"
      ]
     },
     "metadata": {},
     "output_type": "display_data"
    },
    {
     "name": "stdout",
     "output_type": "stream",
     "text": [
      "[jovian] Updating notebook \"momohemmanuel370/top-apps-in-google-play\" on https://jovian.ai\u001b[0m\n",
      "[jovian] Committed successfully! https://jovian.ai/momohemmanuel370/top-apps-in-google-play\u001b[0m\n"
     ]
    },
    {
     "data": {
      "text/plain": [
       "'https://jovian.ai/momohemmanuel370/top-apps-in-google-play'"
      ]
     },
     "execution_count": 39,
     "metadata": {},
     "output_type": "execute_result"
    }
   ],
   "source": [
    "jovian.commit(project=project_name)"
   ]
  },
  {
   "cell_type": "markdown",
   "metadata": {},
   "source": [
    "## Data Preparation and Cleaning\n",
    "\n",
    "Now lets take a close look at the data by exploring the rows & columns, shape, info etc.\n",
    "\n"
   ]
  },
  {
   "cell_type": "code",
   "execution_count": 40,
   "metadata": {},
   "outputs": [
    {
     "name": "stdout",
     "output_type": "stream",
     "text": [
      "Requirement already satisfied: pandas in /opt/conda/lib/python3.9/site-packages (1.3.3)\r\n",
      "Requirement already satisfied: numpy>=1.17.3 in /opt/conda/lib/python3.9/site-packages (from pandas) (1.20.3)\r\n",
      "Requirement already satisfied: python-dateutil>=2.7.3 in /opt/conda/lib/python3.9/site-packages (from pandas) (2.8.2)\r\n",
      "Requirement already satisfied: pytz>=2017.3 in /opt/conda/lib/python3.9/site-packages (from pandas) (2021.1)\r\n",
      "Requirement already satisfied: six>=1.5 in /opt/conda/lib/python3.9/site-packages (from python-dateutil>=2.7.3->pandas) (1.16.0)\r\n"
     ]
    }
   ],
   "source": [
    "# lets install pandas library to read csv file\n",
    "\n",
    "!pip install pandas\n",
    "import pandas as pd\n",
    "\n",
    "apps = pd.read_csv(data_dir + '/Top-Apps-in-Google-Play.csv')"
   ]
  },
  {
   "cell_type": "code",
   "execution_count": 11,
   "metadata": {},
   "outputs": [
    {
     "data": {
      "text/html": [
       "<div>\n",
       "<style scoped>\n",
       "    .dataframe tbody tr th:only-of-type {\n",
       "        vertical-align: middle;\n",
       "    }\n",
       "\n",
       "    .dataframe tbody tr th {\n",
       "        vertical-align: top;\n",
       "    }\n",
       "\n",
       "    .dataframe thead th {\n",
       "        text-align: right;\n",
       "    }\n",
       "</style>\n",
       "<table border=\"1\" class=\"dataframe\">\n",
       "  <thead>\n",
       "    <tr style=\"text-align: right;\">\n",
       "      <th></th>\n",
       "      <th>Unnamed: 0</th>\n",
       "      <th>App Name</th>\n",
       "      <th>App Id</th>\n",
       "      <th>Category</th>\n",
       "      <th>Developer Id</th>\n",
       "      <th>Developer Website</th>\n",
       "      <th>Developer Email</th>\n",
       "      <th>Content Rating</th>\n",
       "      <th>Ad Supported</th>\n",
       "      <th>In App Purchases</th>\n",
       "    </tr>\n",
       "  </thead>\n",
       "  <tbody>\n",
       "    <tr>\n",
       "      <th>0</th>\n",
       "      <td>1</td>\n",
       "      <td>Google Play services</td>\n",
       "      <td>com.google.android.gms</td>\n",
       "      <td>Tools</td>\n",
       "      <td>Google LLC</td>\n",
       "      <td>https://developers.google.com/android/google-p...</td>\n",
       "      <td>apps-help@google.com</td>\n",
       "      <td>Everyone</td>\n",
       "      <td>False</td>\n",
       "      <td>False</td>\n",
       "    </tr>\n",
       "    <tr>\n",
       "      <th>1</th>\n",
       "      <td>2</td>\n",
       "      <td>YouTube</td>\n",
       "      <td>com.google.android.youtube</td>\n",
       "      <td>Video Players &amp; Editors</td>\n",
       "      <td>Google LLC</td>\n",
       "      <td>https://support.google.com/youtube/topic/24225...</td>\n",
       "      <td>ytandroid-support@google.com</td>\n",
       "      <td>Teen</td>\n",
       "      <td>True</td>\n",
       "      <td>False</td>\n",
       "    </tr>\n",
       "    <tr>\n",
       "      <th>2</th>\n",
       "      <td>3</td>\n",
       "      <td>Google</td>\n",
       "      <td>com.google.android.googlequicksearchbox</td>\n",
       "      <td>Tools</td>\n",
       "      <td>Google LLC</td>\n",
       "      <td>https://www.google.com/search/about/</td>\n",
       "      <td>apps-help@google.com</td>\n",
       "      <td>Everyone</td>\n",
       "      <td>True</td>\n",
       "      <td>False</td>\n",
       "    </tr>\n",
       "    <tr>\n",
       "      <th>3</th>\n",
       "      <td>4</td>\n",
       "      <td>Google Maps - Navigate &amp; Explore</td>\n",
       "      <td>com.google.android.apps.maps</td>\n",
       "      <td>Travel &amp; Local</td>\n",
       "      <td>Google LLC</td>\n",
       "      <td>http://maps.google.com/about/</td>\n",
       "      <td>apps-help@google.com</td>\n",
       "      <td>Everyone</td>\n",
       "      <td>True</td>\n",
       "      <td>False</td>\n",
       "    </tr>\n",
       "    <tr>\n",
       "      <th>4</th>\n",
       "      <td>5</td>\n",
       "      <td>Google Text-to-Speech</td>\n",
       "      <td>com.google.android.tts</td>\n",
       "      <td>Tools</td>\n",
       "      <td>Google LLC</td>\n",
       "      <td>http://www.google.com/</td>\n",
       "      <td>tts-feedback@google.com</td>\n",
       "      <td>Everyone</td>\n",
       "      <td>False</td>\n",
       "      <td>False</td>\n",
       "    </tr>\n",
       "    <tr>\n",
       "      <th>...</th>\n",
       "      <td>...</td>\n",
       "      <td>...</td>\n",
       "      <td>...</td>\n",
       "      <td>...</td>\n",
       "      <td>...</td>\n",
       "      <td>...</td>\n",
       "      <td>...</td>\n",
       "      <td>...</td>\n",
       "      <td>...</td>\n",
       "      <td>...</td>\n",
       "    </tr>\n",
       "    <tr>\n",
       "      <th>65</th>\n",
       "      <td>66</td>\n",
       "      <td>Clock</td>\n",
       "      <td>com.google.android.deskclock</td>\n",
       "      <td>Tools</td>\n",
       "      <td>Google LLC</td>\n",
       "      <td>http://www.google.com/</td>\n",
       "      <td>android-clock-feedback@google.com</td>\n",
       "      <td>Everyone</td>\n",
       "      <td>False</td>\n",
       "      <td>False</td>\n",
       "    </tr>\n",
       "    <tr>\n",
       "      <th>66</th>\n",
       "      <td>67</td>\n",
       "      <td>Spotify: Listen to podcasts &amp; find music you love</td>\n",
       "      <td>com.spotify.music</td>\n",
       "      <td>Music &amp; Audio</td>\n",
       "      <td>Spotify Ltd.</td>\n",
       "      <td>https://www.spotify.com</td>\n",
       "      <td>android-support@spotify.com</td>\n",
       "      <td>Teen</td>\n",
       "      <td>True</td>\n",
       "      <td>False</td>\n",
       "    </tr>\n",
       "    <tr>\n",
       "      <th>67</th>\n",
       "      <td>68</td>\n",
       "      <td>Google Translate</td>\n",
       "      <td>com.google.android.apps.translate</td>\n",
       "      <td>Tools</td>\n",
       "      <td>Google LLC</td>\n",
       "      <td>http://support.google.com/translate</td>\n",
       "      <td>translate-mobile-support@google.com</td>\n",
       "      <td>Everyone</td>\n",
       "      <td>False</td>\n",
       "      <td>False</td>\n",
       "    </tr>\n",
       "    <tr>\n",
       "      <th>68</th>\n",
       "      <td>69</td>\n",
       "      <td>Samsung Notes</td>\n",
       "      <td>com.samsung.android.app.notes</td>\n",
       "      <td>Productivity</td>\n",
       "      <td>Samsung Electronics Co.,  Ltd.</td>\n",
       "      <td>https://samsung.com</td>\n",
       "      <td>noreply.sec@samsung.com</td>\n",
       "      <td>Everyone</td>\n",
       "      <td>False</td>\n",
       "      <td>False</td>\n",
       "    </tr>\n",
       "    <tr>\n",
       "      <th>69</th>\n",
       "      <td>70</td>\n",
       "      <td>Calculator</td>\n",
       "      <td>com.google.android.calculator</td>\n",
       "      <td>Tools</td>\n",
       "      <td>Google LLC</td>\n",
       "      <td>http://www.google.com/</td>\n",
       "      <td>android-calculator-feedback@google.com</td>\n",
       "      <td>Everyone</td>\n",
       "      <td>False</td>\n",
       "      <td>False</td>\n",
       "    </tr>\n",
       "  </tbody>\n",
       "</table>\n",
       "<p>70 rows × 10 columns</p>\n",
       "</div>"
      ],
      "text/plain": [
       "    Unnamed: 0                                           App Name  \\\n",
       "0            1                               Google Play services   \n",
       "1            2                                            YouTube   \n",
       "2            3                                             Google   \n",
       "3            4                   Google Maps - Navigate & Explore   \n",
       "4            5                              Google Text-to-Speech   \n",
       "..         ...                                                ...   \n",
       "65          66                                              Clock   \n",
       "66          67  Spotify: Listen to podcasts & find music you love   \n",
       "67          68                                   Google Translate   \n",
       "68          69                                      Samsung Notes   \n",
       "69          70                                         Calculator   \n",
       "\n",
       "                                     App Id                 Category  \\\n",
       "0                    com.google.android.gms                    Tools   \n",
       "1                com.google.android.youtube  Video Players & Editors   \n",
       "2   com.google.android.googlequicksearchbox                    Tools   \n",
       "3              com.google.android.apps.maps           Travel & Local   \n",
       "4                    com.google.android.tts                    Tools   \n",
       "..                                      ...                      ...   \n",
       "65             com.google.android.deskclock                    Tools   \n",
       "66                        com.spotify.music            Music & Audio   \n",
       "67        com.google.android.apps.translate                    Tools   \n",
       "68            com.samsung.android.app.notes             Productivity   \n",
       "69            com.google.android.calculator                    Tools   \n",
       "\n",
       "                      Developer Id  \\\n",
       "0                       Google LLC   \n",
       "1                       Google LLC   \n",
       "2                       Google LLC   \n",
       "3                       Google LLC   \n",
       "4                       Google LLC   \n",
       "..                             ...   \n",
       "65                      Google LLC   \n",
       "66                    Spotify Ltd.   \n",
       "67                      Google LLC   \n",
       "68  Samsung Electronics Co.,  Ltd.   \n",
       "69                      Google LLC   \n",
       "\n",
       "                                    Developer Website  \\\n",
       "0   https://developers.google.com/android/google-p...   \n",
       "1   https://support.google.com/youtube/topic/24225...   \n",
       "2                https://www.google.com/search/about/   \n",
       "3                       http://maps.google.com/about/   \n",
       "4                              http://www.google.com/   \n",
       "..                                                ...   \n",
       "65                             http://www.google.com/   \n",
       "66                            https://www.spotify.com   \n",
       "67                http://support.google.com/translate   \n",
       "68                                https://samsung.com   \n",
       "69                             http://www.google.com/   \n",
       "\n",
       "                           Developer Email Content Rating  Ad Supported  \\\n",
       "0                     apps-help@google.com       Everyone         False   \n",
       "1             ytandroid-support@google.com           Teen          True   \n",
       "2                     apps-help@google.com       Everyone          True   \n",
       "3                     apps-help@google.com       Everyone          True   \n",
       "4                  tts-feedback@google.com       Everyone         False   \n",
       "..                                     ...            ...           ...   \n",
       "65       android-clock-feedback@google.com       Everyone         False   \n",
       "66             android-support@spotify.com           Teen          True   \n",
       "67     translate-mobile-support@google.com       Everyone         False   \n",
       "68                 noreply.sec@samsung.com       Everyone         False   \n",
       "69  android-calculator-feedback@google.com       Everyone         False   \n",
       "\n",
       "    In App Purchases  \n",
       "0              False  \n",
       "1              False  \n",
       "2              False  \n",
       "3              False  \n",
       "4              False  \n",
       "..               ...  \n",
       "65             False  \n",
       "66             False  \n",
       "67             False  \n",
       "68             False  \n",
       "69             False  \n",
       "\n",
       "[70 rows x 10 columns]"
      ]
     },
     "execution_count": 11,
     "metadata": {},
     "output_type": "execute_result"
    }
   ],
   "source": [
    "apps"
   ]
  },
  {
   "cell_type": "code",
   "execution_count": 41,
   "metadata": {
    "scrolled": true
   },
   "outputs": [
    {
     "data": {
      "text/plain": [
       "(70, 10)"
      ]
     },
     "execution_count": 41,
     "metadata": {},
     "output_type": "execute_result"
    }
   ],
   "source": [
    "apps.shape"
   ]
  },
  {
   "cell_type": "code",
   "execution_count": 42,
   "metadata": {},
   "outputs": [
    {
     "data": {
      "text/plain": [
       "Index(['Unnamed: 0', 'App Name', 'App Id', 'Category', 'Developer Id',\n",
       "       'Developer Website', 'Developer Email', 'Content Rating',\n",
       "       'Ad Supported', 'In App Purchases'],\n",
       "      dtype='object')"
      ]
     },
     "execution_count": 42,
     "metadata": {},
     "output_type": "execute_result"
    }
   ],
   "source": [
    "apps.columns"
   ]
  },
  {
   "cell_type": "code",
   "execution_count": 14,
   "metadata": {},
   "outputs": [
    {
     "data": {
      "text/html": [
       "<div>\n",
       "<style scoped>\n",
       "    .dataframe tbody tr th:only-of-type {\n",
       "        vertical-align: middle;\n",
       "    }\n",
       "\n",
       "    .dataframe tbody tr th {\n",
       "        vertical-align: top;\n",
       "    }\n",
       "\n",
       "    .dataframe thead th {\n",
       "        text-align: right;\n",
       "    }\n",
       "</style>\n",
       "<table border=\"1\" class=\"dataframe\">\n",
       "  <thead>\n",
       "    <tr style=\"text-align: right;\">\n",
       "      <th></th>\n",
       "      <th>Unnamed: 0</th>\n",
       "      <th>App Name</th>\n",
       "      <th>App Id</th>\n",
       "      <th>Category</th>\n",
       "      <th>Developer Id</th>\n",
       "      <th>Developer Website</th>\n",
       "      <th>Developer Email</th>\n",
       "      <th>Content Rating</th>\n",
       "      <th>Ad Supported</th>\n",
       "      <th>In App Purchases</th>\n",
       "    </tr>\n",
       "  </thead>\n",
       "  <tbody>\n",
       "    <tr>\n",
       "      <th>0</th>\n",
       "      <td>1</td>\n",
       "      <td>Google Play services</td>\n",
       "      <td>com.google.android.gms</td>\n",
       "      <td>Tools</td>\n",
       "      <td>Google LLC</td>\n",
       "      <td>https://developers.google.com/android/google-p...</td>\n",
       "      <td>apps-help@google.com</td>\n",
       "      <td>Everyone</td>\n",
       "      <td>False</td>\n",
       "      <td>False</td>\n",
       "    </tr>\n",
       "    <tr>\n",
       "      <th>1</th>\n",
       "      <td>2</td>\n",
       "      <td>YouTube</td>\n",
       "      <td>com.google.android.youtube</td>\n",
       "      <td>Video Players &amp; Editors</td>\n",
       "      <td>Google LLC</td>\n",
       "      <td>https://support.google.com/youtube/topic/24225...</td>\n",
       "      <td>ytandroid-support@google.com</td>\n",
       "      <td>Teen</td>\n",
       "      <td>True</td>\n",
       "      <td>False</td>\n",
       "    </tr>\n",
       "    <tr>\n",
       "      <th>2</th>\n",
       "      <td>3</td>\n",
       "      <td>Google</td>\n",
       "      <td>com.google.android.googlequicksearchbox</td>\n",
       "      <td>Tools</td>\n",
       "      <td>Google LLC</td>\n",
       "      <td>https://www.google.com/search/about/</td>\n",
       "      <td>apps-help@google.com</td>\n",
       "      <td>Everyone</td>\n",
       "      <td>True</td>\n",
       "      <td>False</td>\n",
       "    </tr>\n",
       "    <tr>\n",
       "      <th>3</th>\n",
       "      <td>4</td>\n",
       "      <td>Google Maps - Navigate &amp; Explore</td>\n",
       "      <td>com.google.android.apps.maps</td>\n",
       "      <td>Travel &amp; Local</td>\n",
       "      <td>Google LLC</td>\n",
       "      <td>http://maps.google.com/about/</td>\n",
       "      <td>apps-help@google.com</td>\n",
       "      <td>Everyone</td>\n",
       "      <td>True</td>\n",
       "      <td>False</td>\n",
       "    </tr>\n",
       "    <tr>\n",
       "      <th>4</th>\n",
       "      <td>5</td>\n",
       "      <td>Google Text-to-Speech</td>\n",
       "      <td>com.google.android.tts</td>\n",
       "      <td>Tools</td>\n",
       "      <td>Google LLC</td>\n",
       "      <td>http://www.google.com/</td>\n",
       "      <td>tts-feedback@google.com</td>\n",
       "      <td>Everyone</td>\n",
       "      <td>False</td>\n",
       "      <td>False</td>\n",
       "    </tr>\n",
       "    <tr>\n",
       "      <th>...</th>\n",
       "      <td>...</td>\n",
       "      <td>...</td>\n",
       "      <td>...</td>\n",
       "      <td>...</td>\n",
       "      <td>...</td>\n",
       "      <td>...</td>\n",
       "      <td>...</td>\n",
       "      <td>...</td>\n",
       "      <td>...</td>\n",
       "      <td>...</td>\n",
       "    </tr>\n",
       "    <tr>\n",
       "      <th>65</th>\n",
       "      <td>66</td>\n",
       "      <td>Clock</td>\n",
       "      <td>com.google.android.deskclock</td>\n",
       "      <td>Tools</td>\n",
       "      <td>Google LLC</td>\n",
       "      <td>http://www.google.com/</td>\n",
       "      <td>android-clock-feedback@google.com</td>\n",
       "      <td>Everyone</td>\n",
       "      <td>False</td>\n",
       "      <td>False</td>\n",
       "    </tr>\n",
       "    <tr>\n",
       "      <th>66</th>\n",
       "      <td>67</td>\n",
       "      <td>Spotify: Listen to podcasts &amp; find music you love</td>\n",
       "      <td>com.spotify.music</td>\n",
       "      <td>Music &amp; Audio</td>\n",
       "      <td>Spotify Ltd.</td>\n",
       "      <td>https://www.spotify.com</td>\n",
       "      <td>android-support@spotify.com</td>\n",
       "      <td>Teen</td>\n",
       "      <td>True</td>\n",
       "      <td>False</td>\n",
       "    </tr>\n",
       "    <tr>\n",
       "      <th>67</th>\n",
       "      <td>68</td>\n",
       "      <td>Google Translate</td>\n",
       "      <td>com.google.android.apps.translate</td>\n",
       "      <td>Tools</td>\n",
       "      <td>Google LLC</td>\n",
       "      <td>http://support.google.com/translate</td>\n",
       "      <td>translate-mobile-support@google.com</td>\n",
       "      <td>Everyone</td>\n",
       "      <td>False</td>\n",
       "      <td>False</td>\n",
       "    </tr>\n",
       "    <tr>\n",
       "      <th>68</th>\n",
       "      <td>69</td>\n",
       "      <td>Samsung Notes</td>\n",
       "      <td>com.samsung.android.app.notes</td>\n",
       "      <td>Productivity</td>\n",
       "      <td>Samsung Electronics Co.,  Ltd.</td>\n",
       "      <td>https://samsung.com</td>\n",
       "      <td>noreply.sec@samsung.com</td>\n",
       "      <td>Everyone</td>\n",
       "      <td>False</td>\n",
       "      <td>False</td>\n",
       "    </tr>\n",
       "    <tr>\n",
       "      <th>69</th>\n",
       "      <td>70</td>\n",
       "      <td>Calculator</td>\n",
       "      <td>com.google.android.calculator</td>\n",
       "      <td>Tools</td>\n",
       "      <td>Google LLC</td>\n",
       "      <td>http://www.google.com/</td>\n",
       "      <td>android-calculator-feedback@google.com</td>\n",
       "      <td>Everyone</td>\n",
       "      <td>False</td>\n",
       "      <td>False</td>\n",
       "    </tr>\n",
       "  </tbody>\n",
       "</table>\n",
       "<p>70 rows × 10 columns</p>\n",
       "</div>"
      ],
      "text/plain": [
       "    Unnamed: 0                                           App Name  \\\n",
       "0            1                               Google Play services   \n",
       "1            2                                            YouTube   \n",
       "2            3                                             Google   \n",
       "3            4                   Google Maps - Navigate & Explore   \n",
       "4            5                              Google Text-to-Speech   \n",
       "..         ...                                                ...   \n",
       "65          66                                              Clock   \n",
       "66          67  Spotify: Listen to podcasts & find music you love   \n",
       "67          68                                   Google Translate   \n",
       "68          69                                      Samsung Notes   \n",
       "69          70                                         Calculator   \n",
       "\n",
       "                                     App Id                 Category  \\\n",
       "0                    com.google.android.gms                    Tools   \n",
       "1                com.google.android.youtube  Video Players & Editors   \n",
       "2   com.google.android.googlequicksearchbox                    Tools   \n",
       "3              com.google.android.apps.maps           Travel & Local   \n",
       "4                    com.google.android.tts                    Tools   \n",
       "..                                      ...                      ...   \n",
       "65             com.google.android.deskclock                    Tools   \n",
       "66                        com.spotify.music            Music & Audio   \n",
       "67        com.google.android.apps.translate                    Tools   \n",
       "68            com.samsung.android.app.notes             Productivity   \n",
       "69            com.google.android.calculator                    Tools   \n",
       "\n",
       "                      Developer Id  \\\n",
       "0                       Google LLC   \n",
       "1                       Google LLC   \n",
       "2                       Google LLC   \n",
       "3                       Google LLC   \n",
       "4                       Google LLC   \n",
       "..                             ...   \n",
       "65                      Google LLC   \n",
       "66                    Spotify Ltd.   \n",
       "67                      Google LLC   \n",
       "68  Samsung Electronics Co.,  Ltd.   \n",
       "69                      Google LLC   \n",
       "\n",
       "                                    Developer Website  \\\n",
       "0   https://developers.google.com/android/google-p...   \n",
       "1   https://support.google.com/youtube/topic/24225...   \n",
       "2                https://www.google.com/search/about/   \n",
       "3                       http://maps.google.com/about/   \n",
       "4                              http://www.google.com/   \n",
       "..                                                ...   \n",
       "65                             http://www.google.com/   \n",
       "66                            https://www.spotify.com   \n",
       "67                http://support.google.com/translate   \n",
       "68                                https://samsung.com   \n",
       "69                             http://www.google.com/   \n",
       "\n",
       "                           Developer Email Content Rating  Ad Supported  \\\n",
       "0                     apps-help@google.com       Everyone         False   \n",
       "1             ytandroid-support@google.com           Teen          True   \n",
       "2                     apps-help@google.com       Everyone          True   \n",
       "3                     apps-help@google.com       Everyone          True   \n",
       "4                  tts-feedback@google.com       Everyone         False   \n",
       "..                                     ...            ...           ...   \n",
       "65       android-clock-feedback@google.com       Everyone         False   \n",
       "66             android-support@spotify.com           Teen          True   \n",
       "67     translate-mobile-support@google.com       Everyone         False   \n",
       "68                 noreply.sec@samsung.com       Everyone         False   \n",
       "69  android-calculator-feedback@google.com       Everyone         False   \n",
       "\n",
       "    In App Purchases  \n",
       "0              False  \n",
       "1              False  \n",
       "2              False  \n",
       "3              False  \n",
       "4              False  \n",
       "..               ...  \n",
       "65             False  \n",
       "66             False  \n",
       "67             False  \n",
       "68             False  \n",
       "69             False  \n",
       "\n",
       "[70 rows x 10 columns]"
      ]
     },
     "execution_count": 14,
     "metadata": {},
     "output_type": "execute_result"
    }
   ],
   "source": [
    "# Lets look at the description of the app\n",
    "apps.describe\n",
    "\n",
    "# I will copy the data frame so i have an original copy \n",
    "apps.copy()"
   ]
  },
  {
   "cell_type": "markdown",
   "metadata": {},
   "source": [
    "We can see that the dataset contains 70 rows and 10 columns of data, with app name, app id etc"
   ]
  },
  {
   "cell_type": "code",
   "execution_count": 43,
   "metadata": {},
   "outputs": [],
   "source": [
    "# for this analysis i wouldnt be needing all columns, so its best to select what i need. I'll be needing the\n",
    "\n",
    "#Category\n",
    "#Developer ID\n",
    "#Content rating\n",
    "#Ads suportted and\n",
    "#Ads in purchase for now\n",
    "\n",
    "apps_df = apps[['Category', 'Developer Id','Content Rating','Ad Supported', 'In App Purchases' ]]"
   ]
  },
  {
   "cell_type": "code",
   "execution_count": 44,
   "metadata": {},
   "outputs": [
    {
     "data": {
      "text/html": [
       "<div>\n",
       "<style scoped>\n",
       "    .dataframe tbody tr th:only-of-type {\n",
       "        vertical-align: middle;\n",
       "    }\n",
       "\n",
       "    .dataframe tbody tr th {\n",
       "        vertical-align: top;\n",
       "    }\n",
       "\n",
       "    .dataframe thead th {\n",
       "        text-align: right;\n",
       "    }\n",
       "</style>\n",
       "<table border=\"1\" class=\"dataframe\">\n",
       "  <thead>\n",
       "    <tr style=\"text-align: right;\">\n",
       "      <th></th>\n",
       "      <th>Category</th>\n",
       "      <th>Developer Id</th>\n",
       "      <th>Content Rating</th>\n",
       "      <th>Ad Supported</th>\n",
       "      <th>In App Purchases</th>\n",
       "    </tr>\n",
       "  </thead>\n",
       "  <tbody>\n",
       "    <tr>\n",
       "      <th>0</th>\n",
       "      <td>Tools</td>\n",
       "      <td>Google LLC</td>\n",
       "      <td>Everyone</td>\n",
       "      <td>False</td>\n",
       "      <td>False</td>\n",
       "    </tr>\n",
       "    <tr>\n",
       "      <th>1</th>\n",
       "      <td>Video Players &amp; Editors</td>\n",
       "      <td>Google LLC</td>\n",
       "      <td>Teen</td>\n",
       "      <td>True</td>\n",
       "      <td>False</td>\n",
       "    </tr>\n",
       "    <tr>\n",
       "      <th>2</th>\n",
       "      <td>Tools</td>\n",
       "      <td>Google LLC</td>\n",
       "      <td>Everyone</td>\n",
       "      <td>True</td>\n",
       "      <td>False</td>\n",
       "    </tr>\n",
       "    <tr>\n",
       "      <th>3</th>\n",
       "      <td>Travel &amp; Local</td>\n",
       "      <td>Google LLC</td>\n",
       "      <td>Everyone</td>\n",
       "      <td>True</td>\n",
       "      <td>False</td>\n",
       "    </tr>\n",
       "    <tr>\n",
       "      <th>4</th>\n",
       "      <td>Tools</td>\n",
       "      <td>Google LLC</td>\n",
       "      <td>Everyone</td>\n",
       "      <td>False</td>\n",
       "      <td>False</td>\n",
       "    </tr>\n",
       "    <tr>\n",
       "      <th>...</th>\n",
       "      <td>...</td>\n",
       "      <td>...</td>\n",
       "      <td>...</td>\n",
       "      <td>...</td>\n",
       "      <td>...</td>\n",
       "    </tr>\n",
       "    <tr>\n",
       "      <th>65</th>\n",
       "      <td>Tools</td>\n",
       "      <td>Google LLC</td>\n",
       "      <td>Everyone</td>\n",
       "      <td>False</td>\n",
       "      <td>False</td>\n",
       "    </tr>\n",
       "    <tr>\n",
       "      <th>66</th>\n",
       "      <td>Music &amp; Audio</td>\n",
       "      <td>Spotify Ltd.</td>\n",
       "      <td>Teen</td>\n",
       "      <td>True</td>\n",
       "      <td>False</td>\n",
       "    </tr>\n",
       "    <tr>\n",
       "      <th>67</th>\n",
       "      <td>Tools</td>\n",
       "      <td>Google LLC</td>\n",
       "      <td>Everyone</td>\n",
       "      <td>False</td>\n",
       "      <td>False</td>\n",
       "    </tr>\n",
       "    <tr>\n",
       "      <th>68</th>\n",
       "      <td>Productivity</td>\n",
       "      <td>Samsung Electronics Co.,  Ltd.</td>\n",
       "      <td>Everyone</td>\n",
       "      <td>False</td>\n",
       "      <td>False</td>\n",
       "    </tr>\n",
       "    <tr>\n",
       "      <th>69</th>\n",
       "      <td>Tools</td>\n",
       "      <td>Google LLC</td>\n",
       "      <td>Everyone</td>\n",
       "      <td>False</td>\n",
       "      <td>False</td>\n",
       "    </tr>\n",
       "  </tbody>\n",
       "</table>\n",
       "<p>70 rows × 5 columns</p>\n",
       "</div>"
      ],
      "text/plain": [
       "                   Category                    Developer Id Content Rating  \\\n",
       "0                     Tools                      Google LLC       Everyone   \n",
       "1   Video Players & Editors                      Google LLC           Teen   \n",
       "2                     Tools                      Google LLC       Everyone   \n",
       "3            Travel & Local                      Google LLC       Everyone   \n",
       "4                     Tools                      Google LLC       Everyone   \n",
       "..                      ...                             ...            ...   \n",
       "65                    Tools                      Google LLC       Everyone   \n",
       "66            Music & Audio                    Spotify Ltd.           Teen   \n",
       "67                    Tools                      Google LLC       Everyone   \n",
       "68             Productivity  Samsung Electronics Co.,  Ltd.       Everyone   \n",
       "69                    Tools                      Google LLC       Everyone   \n",
       "\n",
       "    Ad Supported  In App Purchases  \n",
       "0          False             False  \n",
       "1           True             False  \n",
       "2           True             False  \n",
       "3           True             False  \n",
       "4          False             False  \n",
       "..           ...               ...  \n",
       "65         False             False  \n",
       "66          True             False  \n",
       "67         False             False  \n",
       "68         False             False  \n",
       "69         False             False  \n",
       "\n",
       "[70 rows x 5 columns]"
      ]
     },
     "execution_count": 44,
     "metadata": {},
     "output_type": "execute_result"
    }
   ],
   "source": [
    "apps_df"
   ]
  },
  {
   "cell_type": "code",
   "execution_count": 45,
   "metadata": {},
   "outputs": [],
   "source": [
    "# Let create data frames to Count the Categories, Developer Id, Content Rating and Ad supported. This will enable us determine the popularity of thr apps\n",
    "\n",
    "Category_count = apps_df.groupby('Category')['Category'].count()\n",
    "DeveloperId_count = apps_df.groupby('Developer Id')['Developer Id'].count()\n",
    "Contentrating_Count = apps_df.groupby('Content Rating')['Content Rating'].count()\n",
    "Adsupported_Count = apps_df.groupby('Ad Supported')['Ad Supported'].count()"
   ]
  },
  {
   "cell_type": "code",
   "execution_count": 46,
   "metadata": {},
   "outputs": [
    {
     "data": {
      "text/plain": [
       "Ad Supported\n",
       "False    51\n",
       "True     19\n",
       "Name: Ad Supported, dtype: int64"
      ]
     },
     "execution_count": 46,
     "metadata": {},
     "output_type": "execute_result"
    }
   ],
   "source": [
    "Adsupported_Count"
   ]
  },
  {
   "cell_type": "code",
   "execution_count": 19,
   "metadata": {},
   "outputs": [],
   "source": [
    "import jovian"
   ]
  },
  {
   "cell_type": "code",
   "execution_count": 20,
   "metadata": {},
   "outputs": [
    {
     "data": {
      "application/javascript": [
       "window.require && require([\"base/js/namespace\"],function(Jupyter){Jupyter.notebook.save_checkpoint()})"
      ],
      "text/plain": [
       "<IPython.core.display.Javascript object>"
      ]
     },
     "metadata": {},
     "output_type": "display_data"
    },
    {
     "name": "stdout",
     "output_type": "stream",
     "text": [
      "[jovian] Updating notebook \"momohemmanuel370/top-apps-in-google-play\" on https://jovian.ai\u001b[0m\n",
      "[jovian] Committed successfully! https://jovian.ai/momohemmanuel370/top-apps-in-google-play\u001b[0m\n"
     ]
    },
    {
     "data": {
      "text/plain": [
       "'https://jovian.ai/momohemmanuel370/top-apps-in-google-play'"
      ]
     },
     "execution_count": 20,
     "metadata": {},
     "output_type": "execute_result"
    }
   ],
   "source": [
    "jovian.commit()"
   ]
  },
  {
   "cell_type": "markdown",
   "metadata": {},
   "source": [
    "## Exploratory Analysis and Visualization\n",
    "\n",
    "Now we are going to take a look at how popular apps are based on Category, Content rating, Developer ID, and Ads supported\n",
    "\n"
   ]
  },
  {
   "cell_type": "markdown",
   "metadata": {},
   "source": [
    "Let's begin by importing`matplotlib.pyplot` and `seaborn`."
   ]
  },
  {
   "cell_type": "code",
   "execution_count": 47,
   "metadata": {},
   "outputs": [],
   "source": [
    "import seaborn as sns\n",
    "import matplotlib\n",
    "import matplotlib.pyplot as plt\n",
    "%matplotlib inline\n",
    "\n",
    "sns.set_style('darkgrid')\n",
    "matplotlib.rcParams['font.size'] = 14\n",
    "matplotlib.rcParams['figure.figsize'] = (9, 5)\n",
    "matplotlib.rcParams['figure.facecolor'] = '#00000000'"
   ]
  },
  {
   "cell_type": "markdown",
   "metadata": {},
   "source": [
    "Lets determine which category of apps are more popular on Google Play"
   ]
  },
  {
   "cell_type": "code",
   "execution_count": 61,
   "metadata": {},
   "outputs": [
    {
     "data": {
      "image/png": "[encoded data removed]",
      "text/plain": [
       "<Figure size 648x360 with 1 Axes>"
      ]
     },
     "metadata": {
      "needs_background": "light"
     },
     "output_type": "display_data"
    }
   ],
   "source": [
    "plt.plot(Category_count, 'o--g')\n",
    "plt.xlabel('Categories')\n",
    "plt.ylabel('Number of apps')\n",
    "plt.xticks(rotation=90)\n",
    "plt.title('Number of Apps in each Category');\n"
   ]
  },
  {
   "cell_type": "markdown",
   "metadata": {},
   "source": [
    "In the visualization above, we can see that the 'tools' Category is the most popular with about tools app on playstore"
   ]
  },
  {
   "cell_type": "code",
   "execution_count": 62,
   "metadata": {},
   "outputs": [
    {
     "data": {
      "image/png": "[encoded data removed]",
      "text/plain": [
       "<Figure size 648x360 with 1 Axes>"
      ]
     },
     "metadata": {
      "needs_background": "light"
     },
     "output_type": "display_data"
    }
   ],
   "source": [
    "plt.plot(DeveloperId_count, 's--b')\n",
    "plt.xlabel('Developer id')\n",
    "plt.ylabel('Number of apps')\n",
    "plt.xticks(rotation=90)\n",
    "plt.title('Number of Apps by each developer');\n"
   ]
  },
  {
   "cell_type": "markdown",
   "metadata": {},
   "source": [
    "And again we can see that Google LLC has most of the apps on Playstore"
   ]
  },
  {
   "cell_type": "code",
   "execution_count": 86,
   "metadata": {},
   "outputs": [
    {
     "data": {
      "image/png": "[encoded data removed]",
      "text/plain": [
       "<Figure size 648x360 with 1 Axes>"
      ]
     },
     "metadata": {
      "needs_background": "light"
     },
     "output_type": "display_data"
    }
   ],
   "source": [
    "# Now lets see which content rating is more popular\n",
    "plt.plot(Contentrating_Count)\n",
    "plt.xlabel('Content Ratings')\n",
    "plt.ylabel('Number of apps')\n",
    "plt.xticks(rotation=90)\n",
    "plt.title('Number of Apps by content');"
   ]
  },
  {
   "cell_type": "markdown",
   "metadata": {},
   "source": [
    "The most popular content rating is 'Everyone' followed by 'Teen'"
   ]
  },
  {
   "cell_type": "code",
   "execution_count": 87,
   "metadata": {},
   "outputs": [
    {
     "data": {
      "application/javascript": [
       "window.require && require([\"base/js/namespace\"],function(Jupyter){Jupyter.notebook.save_checkpoint()})"
      ],
      "text/plain": [
       "<IPython.core.display.Javascript object>"
      ]
     },
     "metadata": {},
     "output_type": "display_data"
    },
    {
     "name": "stdout",
     "output_type": "stream",
     "text": [
      "[jovian] Updating notebook \"momohemmanuel370/top-apps-in-google-play\" on https://jovian.ai\u001b[0m\n",
      "[jovian] Committed successfully! https://jovian.ai/momohemmanuel370/top-apps-in-google-play\u001b[0m\n"
     ]
    },
    {
     "data": {
      "text/plain": [
       "'https://jovian.ai/momohemmanuel370/top-apps-in-google-play'"
      ]
     },
     "execution_count": 87,
     "metadata": {},
     "output_type": "execute_result"
    }
   ],
   "source": [
    "jovian.commit()"
   ]
  },
  {
   "cell_type": "markdown",
   "metadata": {},
   "source": [
    "Lastly Lets check how many apps support ads and how many donot"
   ]
  },
  {
   "cell_type": "code",
   "execution_count": 181,
   "metadata": {},
   "outputs": [
    {
     "data": {
      "image/png": "[encoded data removed]",
      "text/plain": [
       "<Figure size 648x360 with 1 Axes>"
      ]
     },
     "metadata": {
      "needs_background": "light"
     },
     "output_type": "display_data"
    }
   ],
   "source": [
    "# Now lets see how many ads has ads \n",
    "Adsupported_Count.plot();\n"
   ]
  },
  {
   "cell_type": "markdown",
   "metadata": {},
   "source": [
    "We have 51 apps without ads and 19 with ads"
   ]
  },
  {
   "cell_type": "code",
   "execution_count": 133,
   "metadata": {},
   "outputs": [],
   "source": [
    "# Lets create another dataframe with the app name\n",
    "\n",
    "new_apps = apps[['Unnamed: 0','App Name','Category','Developer Id','Content Rating','Ad Supported']]"
   ]
  },
  {
   "cell_type": "code",
   "execution_count": 158,
   "metadata": {},
   "outputs": [],
   "source": [
    "# I replaced the spaces in the columns name with underscore\n",
    "\n",
    "new_apps.columns = [c.replace(' ', '_') for c in new_apps.columns]"
   ]
  },
  {
   "cell_type": "code",
   "execution_count": 159,
   "metadata": {},
   "outputs": [
    {
     "data": {
      "text/html": [
       "<div>\n",
       "<style scoped>\n",
       "    .dataframe tbody tr th:only-of-type {\n",
       "        vertical-align: middle;\n",
       "    }\n",
       "\n",
       "    .dataframe tbody tr th {\n",
       "        vertical-align: top;\n",
       "    }\n",
       "\n",
       "    .dataframe thead th {\n",
       "        text-align: right;\n",
       "    }\n",
       "</style>\n",
       "<table border=\"1\" class=\"dataframe\">\n",
       "  <thead>\n",
       "    <tr style=\"text-align: right;\">\n",
       "      <th></th>\n",
       "      <th>Unnamed:_0</th>\n",
       "      <th>App_Name</th>\n",
       "      <th>Category</th>\n",
       "      <th>Developer_Id</th>\n",
       "      <th>Content_Rating</th>\n",
       "      <th>Ad_Supported</th>\n",
       "    </tr>\n",
       "  </thead>\n",
       "  <tbody>\n",
       "    <tr>\n",
       "      <th>0</th>\n",
       "      <td>1</td>\n",
       "      <td>Google Play services</td>\n",
       "      <td>Tools</td>\n",
       "      <td>Google LLC</td>\n",
       "      <td>Everyone</td>\n",
       "      <td>False</td>\n",
       "    </tr>\n",
       "    <tr>\n",
       "      <th>1</th>\n",
       "      <td>2</td>\n",
       "      <td>YouTube</td>\n",
       "      <td>Video Players &amp; Editors</td>\n",
       "      <td>Google LLC</td>\n",
       "      <td>Teen</td>\n",
       "      <td>True</td>\n",
       "    </tr>\n",
       "    <tr>\n",
       "      <th>2</th>\n",
       "      <td>3</td>\n",
       "      <td>Google</td>\n",
       "      <td>Tools</td>\n",
       "      <td>Google LLC</td>\n",
       "      <td>Everyone</td>\n",
       "      <td>True</td>\n",
       "    </tr>\n",
       "    <tr>\n",
       "      <th>3</th>\n",
       "      <td>4</td>\n",
       "      <td>Google Maps - Navigate &amp; Explore</td>\n",
       "      <td>Travel &amp; Local</td>\n",
       "      <td>Google LLC</td>\n",
       "      <td>Everyone</td>\n",
       "      <td>True</td>\n",
       "    </tr>\n",
       "    <tr>\n",
       "      <th>4</th>\n",
       "      <td>5</td>\n",
       "      <td>Google Text-to-Speech</td>\n",
       "      <td>Tools</td>\n",
       "      <td>Google LLC</td>\n",
       "      <td>Everyone</td>\n",
       "      <td>False</td>\n",
       "    </tr>\n",
       "    <tr>\n",
       "      <th>...</th>\n",
       "      <td>...</td>\n",
       "      <td>...</td>\n",
       "      <td>...</td>\n",
       "      <td>...</td>\n",
       "      <td>...</td>\n",
       "      <td>...</td>\n",
       "    </tr>\n",
       "    <tr>\n",
       "      <th>65</th>\n",
       "      <td>66</td>\n",
       "      <td>Clock</td>\n",
       "      <td>Tools</td>\n",
       "      <td>Google LLC</td>\n",
       "      <td>Everyone</td>\n",
       "      <td>False</td>\n",
       "    </tr>\n",
       "    <tr>\n",
       "      <th>66</th>\n",
       "      <td>67</td>\n",
       "      <td>Spotify: Listen to podcasts &amp; find music you love</td>\n",
       "      <td>Music &amp; Audio</td>\n",
       "      <td>Spotify Ltd.</td>\n",
       "      <td>Teen</td>\n",
       "      <td>True</td>\n",
       "    </tr>\n",
       "    <tr>\n",
       "      <th>67</th>\n",
       "      <td>68</td>\n",
       "      <td>Google Translate</td>\n",
       "      <td>Tools</td>\n",
       "      <td>Google LLC</td>\n",
       "      <td>Everyone</td>\n",
       "      <td>False</td>\n",
       "    </tr>\n",
       "    <tr>\n",
       "      <th>68</th>\n",
       "      <td>69</td>\n",
       "      <td>Samsung Notes</td>\n",
       "      <td>Productivity</td>\n",
       "      <td>Samsung Electronics Co.,  Ltd.</td>\n",
       "      <td>Everyone</td>\n",
       "      <td>False</td>\n",
       "    </tr>\n",
       "    <tr>\n",
       "      <th>69</th>\n",
       "      <td>70</td>\n",
       "      <td>Calculator</td>\n",
       "      <td>Tools</td>\n",
       "      <td>Google LLC</td>\n",
       "      <td>Everyone</td>\n",
       "      <td>False</td>\n",
       "    </tr>\n",
       "  </tbody>\n",
       "</table>\n",
       "<p>70 rows × 6 columns</p>\n",
       "</div>"
      ],
      "text/plain": [
       "    Unnamed:_0                                           App_Name  \\\n",
       "0            1                               Google Play services   \n",
       "1            2                                            YouTube   \n",
       "2            3                                             Google   \n",
       "3            4                   Google Maps - Navigate & Explore   \n",
       "4            5                              Google Text-to-Speech   \n",
       "..         ...                                                ...   \n",
       "65          66                                              Clock   \n",
       "66          67  Spotify: Listen to podcasts & find music you love   \n",
       "67          68                                   Google Translate   \n",
       "68          69                                      Samsung Notes   \n",
       "69          70                                         Calculator   \n",
       "\n",
       "                   Category                    Developer_Id Content_Rating  \\\n",
       "0                     Tools                      Google LLC       Everyone   \n",
       "1   Video Players & Editors                      Google LLC           Teen   \n",
       "2                     Tools                      Google LLC       Everyone   \n",
       "3            Travel & Local                      Google LLC       Everyone   \n",
       "4                     Tools                      Google LLC       Everyone   \n",
       "..                      ...                             ...            ...   \n",
       "65                    Tools                      Google LLC       Everyone   \n",
       "66            Music & Audio                    Spotify Ltd.           Teen   \n",
       "67                    Tools                      Google LLC       Everyone   \n",
       "68             Productivity  Samsung Electronics Co.,  Ltd.       Everyone   \n",
       "69                    Tools                      Google LLC       Everyone   \n",
       "\n",
       "    Ad_Supported  \n",
       "0          False  \n",
       "1           True  \n",
       "2           True  \n",
       "3           True  \n",
       "4          False  \n",
       "..           ...  \n",
       "65         False  \n",
       "66          True  \n",
       "67         False  \n",
       "68         False  \n",
       "69         False  \n",
       "\n",
       "[70 rows x 6 columns]"
      ]
     },
     "execution_count": 159,
     "metadata": {},
     "output_type": "execute_result"
    }
   ],
   "source": [
    "new_apps"
   ]
  },
  {
   "cell_type": "markdown",
   "metadata": {},
   "source": [
    "Now we know that the most popular apps fall under the following criteria\n",
    "\n",
    "1. Category is 'Tools'\n",
    "2. Developer Id is 'Google LLC'\n",
    "3. Content Rating is 'Everyone'\n",
    "4. Ad support is 'False'\n",
    "\n",
    "Now lets filter our data based on these criteria"
   ]
  },
  {
   "cell_type": "code",
   "execution_count": 170,
   "metadata": {},
   "outputs": [],
   "source": [
    "# Filtering Data\n",
    "\n",
    "Most_popular_apps = new_apps[(new_apps.Category == \"Tools\") & (new_apps.Developer_Id == \"Google LLC\") & (new_apps.Content_Rating == \"Everyone\") & (new_apps.Ad_Supported == False)]\n"
   ]
  },
  {
   "cell_type": "code",
   "execution_count": 174,
   "metadata": {},
   "outputs": [
    {
     "data": {
      "text/html": [
       "<div>\n",
       "<style scoped>\n",
       "    .dataframe tbody tr th:only-of-type {\n",
       "        vertical-align: middle;\n",
       "    }\n",
       "\n",
       "    .dataframe tbody tr th {\n",
       "        vertical-align: top;\n",
       "    }\n",
       "\n",
       "    .dataframe thead th {\n",
       "        text-align: right;\n",
       "    }\n",
       "</style>\n",
       "<table border=\"1\" class=\"dataframe\">\n",
       "  <thead>\n",
       "    <tr style=\"text-align: right;\">\n",
       "      <th></th>\n",
       "      <th>Unnamed:_0</th>\n",
       "      <th>App_Name</th>\n",
       "      <th>Category</th>\n",
       "      <th>Developer_Id</th>\n",
       "      <th>Content_Rating</th>\n",
       "      <th>Ad_Supported</th>\n",
       "    </tr>\n",
       "  </thead>\n",
       "  <tbody>\n",
       "    <tr>\n",
       "      <th>0</th>\n",
       "      <td>1</td>\n",
       "      <td>Google Play services</td>\n",
       "      <td>Tools</td>\n",
       "      <td>Google LLC</td>\n",
       "      <td>Everyone</td>\n",
       "      <td>False</td>\n",
       "    </tr>\n",
       "    <tr>\n",
       "      <th>4</th>\n",
       "      <td>5</td>\n",
       "      <td>Google Text-to-Speech</td>\n",
       "      <td>Tools</td>\n",
       "      <td>Google LLC</td>\n",
       "      <td>Everyone</td>\n",
       "      <td>False</td>\n",
       "    </tr>\n",
       "    <tr>\n",
       "      <th>7</th>\n",
       "      <td>8</td>\n",
       "      <td>Android Accessibility Suite</td>\n",
       "      <td>Tools</td>\n",
       "      <td>Google LLC</td>\n",
       "      <td>Everyone</td>\n",
       "      <td>False</td>\n",
       "    </tr>\n",
       "    <tr>\n",
       "      <th>15</th>\n",
       "      <td>16</td>\n",
       "      <td>Android System WebView</td>\n",
       "      <td>Tools</td>\n",
       "      <td>Google LLC</td>\n",
       "      <td>Everyone</td>\n",
       "      <td>False</td>\n",
       "    </tr>\n",
       "    <tr>\n",
       "      <th>20</th>\n",
       "      <td>21</td>\n",
       "      <td>Gboard - the Google Keyboard</td>\n",
       "      <td>Tools</td>\n",
       "      <td>Google LLC</td>\n",
       "      <td>Everyone</td>\n",
       "      <td>False</td>\n",
       "    </tr>\n",
       "    <tr>\n",
       "      <th>50</th>\n",
       "      <td>51</td>\n",
       "      <td>Google Play Services for AR</td>\n",
       "      <td>Tools</td>\n",
       "      <td>Google LLC</td>\n",
       "      <td>Everyone</td>\n",
       "      <td>False</td>\n",
       "    </tr>\n",
       "    <tr>\n",
       "      <th>58</th>\n",
       "      <td>59</td>\n",
       "      <td>Files by Google</td>\n",
       "      <td>Tools</td>\n",
       "      <td>Google LLC</td>\n",
       "      <td>Everyone</td>\n",
       "      <td>False</td>\n",
       "    </tr>\n",
       "    <tr>\n",
       "      <th>65</th>\n",
       "      <td>66</td>\n",
       "      <td>Clock</td>\n",
       "      <td>Tools</td>\n",
       "      <td>Google LLC</td>\n",
       "      <td>Everyone</td>\n",
       "      <td>False</td>\n",
       "    </tr>\n",
       "    <tr>\n",
       "      <th>67</th>\n",
       "      <td>68</td>\n",
       "      <td>Google Translate</td>\n",
       "      <td>Tools</td>\n",
       "      <td>Google LLC</td>\n",
       "      <td>Everyone</td>\n",
       "      <td>False</td>\n",
       "    </tr>\n",
       "    <tr>\n",
       "      <th>69</th>\n",
       "      <td>70</td>\n",
       "      <td>Calculator</td>\n",
       "      <td>Tools</td>\n",
       "      <td>Google LLC</td>\n",
       "      <td>Everyone</td>\n",
       "      <td>False</td>\n",
       "    </tr>\n",
       "  </tbody>\n",
       "</table>\n",
       "</div>"
      ],
      "text/plain": [
       "    Unnamed:_0                      App_Name Category Developer_Id  \\\n",
       "0            1          Google Play services    Tools   Google LLC   \n",
       "4            5         Google Text-to-Speech    Tools   Google LLC   \n",
       "7            8   Android Accessibility Suite    Tools   Google LLC   \n",
       "15          16        Android System WebView    Tools   Google LLC   \n",
       "20          21  Gboard - the Google Keyboard    Tools   Google LLC   \n",
       "50          51   Google Play Services for AR    Tools   Google LLC   \n",
       "58          59               Files by Google    Tools   Google LLC   \n",
       "65          66                         Clock    Tools   Google LLC   \n",
       "67          68              Google Translate    Tools   Google LLC   \n",
       "69          70                    Calculator    Tools   Google LLC   \n",
       "\n",
       "   Content_Rating  Ad_Supported  \n",
       "0        Everyone         False  \n",
       "4        Everyone         False  \n",
       "7        Everyone         False  \n",
       "15       Everyone         False  \n",
       "20       Everyone         False  \n",
       "50       Everyone         False  \n",
       "58       Everyone         False  \n",
       "65       Everyone         False  \n",
       "67       Everyone         False  \n",
       "69       Everyone         False  "
      ]
     },
     "execution_count": 174,
     "metadata": {},
     "output_type": "execute_result"
    }
   ],
   "source": [
    "Most_popular_apps"
   ]
  },
  {
   "cell_type": "markdown",
   "metadata": {},
   "source": [
    "\n"
   ]
  },
  {
   "cell_type": "markdown",
   "metadata": {},
   "source": [
    "Now Lets Extra the apps accordingly "
   ]
  },
  {
   "cell_type": "code",
   "execution_count": 177,
   "metadata": {},
   "outputs": [
    {
     "data": {
      "text/plain": [
       "0             Google Play services\n",
       "4            Google Text-to-Speech\n",
       "7      Android Accessibility Suite\n",
       "15          Android System WebView\n",
       "20    Gboard - the Google Keyboard\n",
       "50     Google Play Services for AR\n",
       "58                 Files by Google\n",
       "65                           Clock\n",
       "67                Google Translate\n",
       "69                      Calculator\n",
       "Name: App_Name, dtype: object"
      ]
     },
     "execution_count": 177,
     "metadata": {},
     "output_type": "execute_result"
    }
   ],
   "source": [
    "Most_popular_apps.App_Name\n",
    "\n",
    "# As we can see below are the most popular apps"
   ]
  },
  {
   "cell_type": "code",
   "execution_count": null,
   "metadata": {},
   "outputs": [],
   "source": [
    "import jovian"
   ]
  },
  {
   "cell_type": "code",
   "execution_count": 178,
   "metadata": {},
   "outputs": [
    {
     "data": {
      "application/javascript": [
       "window.require && require([\"base/js/namespace\"],function(Jupyter){Jupyter.notebook.save_checkpoint()})"
      ],
      "text/plain": [
       "<IPython.core.display.Javascript object>"
      ]
     },
     "metadata": {},
     "output_type": "display_data"
    },
    {
     "name": "stdout",
     "output_type": "stream",
     "text": [
      "[jovian] Updating notebook \"momohemmanuel370/top-apps-in-google-play\" on https://jovian.ai\u001b[0m\n",
      "[jovian] Committed successfully! https://jovian.ai/momohemmanuel370/top-apps-in-google-play\u001b[0m\n"
     ]
    },
    {
     "data": {
      "text/plain": [
       "'https://jovian.ai/momohemmanuel370/top-apps-in-google-play'"
      ]
     },
     "execution_count": 178,
     "metadata": {},
     "output_type": "execute_result"
    }
   ],
   "source": [
    "jovian.commit()"
   ]
  },
  {
   "cell_type": "markdown",
   "metadata": {},
   "source": [
    "## Asking and Answering Questions\n",
    "\n",
    "Lets ask and answer some questions with the analysis we just did\n",
    "\n",
    "## Questions\n",
    "\n",
    "1. Which Category is the most popular\n",
    "2. Which Developer is the most popular\n",
    "3. Apps with or without ads which do we have more on playstore\n",
    "4. What is the content rating for majority of the apps on Google play\n",
    "\n",
    "\n",
    "## Answers\n",
    "\n",
    "1. The most popular category is 'Tools'\n",
    "2. The most popular developer is 'Google LLC'\n",
    "3. We have more apps without ads than with ads\n",
    "4. Majority of apps on playstore rating is 'Everyone'\n",
    "\n",
    "\n"
   ]
  },
  {
   "cell_type": "code",
   "execution_count": 152,
   "metadata": {},
   "outputs": [],
   "source": [
    "import jovian"
   ]
  },
  {
   "cell_type": "code",
   "execution_count": null,
   "metadata": {},
   "outputs": [
    {
     "data": {
      "application/javascript": [
       "window.require && require([\"base/js/namespace\"],function(Jupyter){Jupyter.notebook.save_checkpoint()})"
      ],
      "text/plain": [
       "<IPython.core.display.Javascript object>"
      ]
     },
     "metadata": {},
     "output_type": "display_data"
    }
   ],
   "source": [
    "jovian.commit()"
   ]
  },
  {
   "cell_type": "markdown",
   "metadata": {},
   "source": [
    "## Inferences and Conclusion\n",
    "\n",
    "\n",
    "From the Analysis, we can concoclude that the most popular apps are \n",
    "\n",
    "\n",
    "* Play services\n",
    "* Google Text-to-Speech\n",
    "* Android Accessibility Suite\n",
    "* Android System WebView\n",
    "* Gboard - the Google Keyboard\n",
    "* Google Play Services for AR\n",
    "* Files by Google\n",
    "* Clock\n",
    "* Google Translate\n",
    "* Calculator"
   ]
  },
  {
   "cell_type": "code",
   "execution_count": 154,
   "metadata": {},
   "outputs": [],
   "source": [
    "import jovian"
   ]
  },
  {
   "cell_type": "code",
   "execution_count": 183,
   "metadata": {},
   "outputs": [
    {
     "data": {
      "application/javascript": [
       "window.require && require([\"base/js/namespace\"],function(Jupyter){Jupyter.notebook.save_checkpoint()})"
      ],
      "text/plain": [
       "<IPython.core.display.Javascript object>"
      ]
     },
     "metadata": {},
     "output_type": "display_data"
    },
    {
     "name": "stdout",
     "output_type": "stream",
     "text": [
      "[jovian] Updating notebook \"momohemmanuel370/top-apps-in-google-play\" on https://jovian.ai\u001b[0m\n",
      "[jovian] Committed successfully! https://jovian.ai/momohemmanuel370/top-apps-in-google-play\u001b[0m\n"
     ]
    },
    {
     "data": {
      "text/plain": [
       "'https://jovian.ai/momohemmanuel370/top-apps-in-google-play'"
      ]
     },
     "execution_count": 183,
     "metadata": {},
     "output_type": "execute_result"
    }
   ],
   "source": [
    "jovian.commit()"
   ]
  }
 ],
 "metadata": {
  "kernelspec": {
   "display_name": "Python 3 (ipykernel)",
   "language": "python",
   "name": "python3"
  },
  "language_info": {
   "codemirror_mode": {
    "name": "ipython",
    "version": 3
   },
   "file_extension": ".py",
   "mimetype": "text/x-python",
   "name": "python",
   "nbconvert_exporter": "python",
   "pygments_lexer": "ipython3",
   "version": "3.9.6"
  }
 },
 "nbformat": 4,
 "nbformat_minor": 4
}
