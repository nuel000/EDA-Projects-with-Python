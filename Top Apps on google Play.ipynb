{
 "cells": [
  {
   "cell_type": "markdown",
   "metadata": {},
   "source": [
    "# EDA on Top Apps on Google Playstore\n",
    "\n",
    "In recent times, A lot of apps have found their way into Google play store. Some of which are very beneficial while others are not. In this analysis we will be looking at the top apps on Google play. And we will be answering some questions based on our analysis of the data provided."
   ]
  },
  {
   "cell_type": "markdown",
   "metadata": {},
   "source": [
    "## Downloading the Dataset\n",
    "\n",
    "The dataset i will be using is gotten from [Kaggle](https://www.kaggle.com/datasets/alexandrparkhomenko/top-apps-in-google-play). It contains 70 rows and 10 columns. The columns contained include\n",
    "1. Unamed 0(we will rename this later)\n",
    "2. App Name\n",
    "3. App Id\n",
    "4. Category\n",
    "5. Developer Id\n",
    "6. Developer website\n",
    "7. Developer Email\n",
    "8. Content Rating\n",
    "9. Ad Supported\n",
    "10. In App Purchase"
   ]
  },
  {
   "cell_type": "code",
   "execution_count": 1,
   "metadata": {},
   "outputs": [],
   "source": [
    "!pip install jovian opendatasets --upgrade --quiet"
   ]
  },
  {
   "cell_type": "markdown",
   "metadata": {},
   "source": [
    "Let's begin by downloading the data, and listing the files within the dataset."
   ]
  },
  {
   "cell_type": "code",
   "execution_count": 2,
   "metadata": {},
   "outputs": [],
   "source": [
    "# we have to give our dataset link a varible name\n",
    "dataset_url = 'https://www.kaggle.com/datasets/alexandrparkhomenko/top-apps-in-google-play'  "
   ]
  },
  {
   "cell_type": "code",
   "execution_count": 3,
   "metadata": {},
   "outputs": [
    {
     "name": "stdout",
     "output_type": "stream",
     "text": [
      "Please provide your Kaggle credentials to download this dataset. Learn more: http://bit.ly/kaggle-creds\n",
      "Your Kaggle username: nuel000\n",
      "Your Kaggle Key: ········\n",
      "Downloading top-apps-in-google-play.zip to ./top-apps-in-google-play\n"
     ]
    },
    {
     "name": "stderr",
     "output_type": "stream",
     "text": [
      "100%|██████████| 3.08k/3.08k [00:00<00:00, 2.61MB/s]"
     ]
    },
    {
     "name": "stdout",
     "output_type": "stream",
     "text": [
      "\n"
     ]
    },
    {
     "name": "stderr",
     "output_type": "stream",
     "text": [
      "\n"
     ]
    }
   ],
   "source": [
    "# downloading our dataset into the enviroment with \"opendataset\" library\n",
    "import opendatasets as od\n",
    "od.download(dataset_url)"
   ]
  },
  {
   "cell_type": "markdown",
   "metadata": {},
   "source": [
    "The dataset has been downloaded and extracted."
   ]
  },
  {
   "cell_type": "code",
   "execution_count": 4,
   "metadata": {},
   "outputs": [],
   "source": [
    "# lets load the dataset from the directory\n",
    "data_dir = './top-apps-in-google-play'"
   ]
  },
  {
   "cell_type": "code",
   "execution_count": 5,
   "metadata": {},
   "outputs": [
    {
     "data": {
      "text/plain": [
       "['Top-Apps-in-Google-Play.csv']"
      ]
     },
     "execution_count": 5,
     "metadata": {},
     "output_type": "execute_result"
    }
   ],
   "source": [
    "import os\n",
    "os.listdir(data_dir)"
   ]
  },
  {
   "cell_type": "markdown",
   "metadata": {},
   "source": [
    "Let us save and upload our work to Jovian before continuing."
   ]
  },
  {
   "cell_type": "code",
   "execution_count": 6,
   "metadata": {},
   "outputs": [],
   "source": [
    "project_name = \"EDA on top apps on Google play\""
   ]
  },
  {
   "cell_type": "code",
   "execution_count": 7,
   "metadata": {},
   "outputs": [],
   "source": [
    "!pip install jovian --upgrade -q"
   ]
  },
  {
   "cell_type": "code",
   "execution_count": 8,
   "metadata": {},
   "outputs": [],
   "source": [
    "import jovian"
   ]
  },
  {
   "cell_type": "code",
   "execution_count": 9,
   "metadata": {},
   "outputs": [
    {
     "data": {
      "application/javascript": [
       "window.require && require([\"base/js/namespace\"],function(Jupyter){Jupyter.notebook.save_checkpoint()})"
      ],
      "text/plain": [
       "<IPython.core.display.Javascript object>"
      ]
     },
     "metadata": {},
     "output_type": "display_data"
    },
    {
     "name": "stdout",
     "output_type": "stream",
     "text": [
      "[jovian] Updating notebook \"momohemmanuel370/eda-on-top-apps-on-google-play\" on https://jovian.ai\u001b[0m\n",
      "[jovian] Committed successfully! https://jovian.ai/momohemmanuel370/eda-on-top-apps-on-google-play\u001b[0m\n"
     ]
    },
    {
     "data": {
      "text/plain": [
       "'https://jovian.ai/momohemmanuel370/eda-on-top-apps-on-google-play'"
      ]
     },
     "execution_count": 9,
     "metadata": {},
     "output_type": "execute_result"
    }
   ],
   "source": [
    "jovian.commit(project=project_name)"
   ]
  },
  {
   "cell_type": "markdown",
   "metadata": {},
   "source": [
    "## Data Preparation and Cleaning\n",
    "\n",
    "We are going to load the dataset into data frame using pandas, explore by checking the number of rows and columns and handle missing values(if any)\n",
    "\n"
   ]
  },
  {
   "cell_type": "code",
   "execution_count": 10,
   "metadata": {},
   "outputs": [
    {
     "name": "stdout",
     "output_type": "stream",
     "text": [
      "Requirement already satisfied: pandas in /opt/conda/lib/python3.9/site-packages (1.3.3)\r\n",
      "Requirement already satisfied: numpy>=1.17.3 in /opt/conda/lib/python3.9/site-packages (from pandas) (1.20.3)\r\n",
      "Requirement already satisfied: python-dateutil>=2.7.3 in /opt/conda/lib/python3.9/site-packages (from pandas) (2.8.2)\r\n",
      "Requirement already satisfied: pytz>=2017.3 in /opt/conda/lib/python3.9/site-packages (from pandas) (2021.1)\r\n",
      "Requirement already satisfied: six>=1.5 in /opt/conda/lib/python3.9/site-packages (from python-dateutil>=2.7.3->pandas) (1.16.0)\r\n"
     ]
    },
    {
     "data": {
      "text/html": [
       "<div>\n",
       "<style scoped>\n",
       "    .dataframe tbody tr th:only-of-type {\n",
       "        vertical-align: middle;\n",
       "    }\n",
       "\n",
       "    .dataframe tbody tr th {\n",
       "        vertical-align: top;\n",
       "    }\n",
       "\n",
       "    .dataframe thead th {\n",
       "        text-align: right;\n",
       "    }\n",
       "</style>\n",
       "<table border=\"1\" class=\"dataframe\">\n",
       "  <thead>\n",
       "    <tr style=\"text-align: right;\">\n",
       "      <th></th>\n",
       "      <th>Unnamed: 0</th>\n",
       "      <th>App Name</th>\n",
       "      <th>App Id</th>\n",
       "      <th>Category</th>\n",
       "      <th>Developer Id</th>\n",
       "      <th>Developer Website</th>\n",
       "      <th>Developer Email</th>\n",
       "      <th>Content Rating</th>\n",
       "      <th>Ad Supported</th>\n",
       "      <th>In App Purchases</th>\n",
       "    </tr>\n",
       "  </thead>\n",
       "  <tbody>\n",
       "    <tr>\n",
       "      <th>0</th>\n",
       "      <td>1</td>\n",
       "      <td>Google Play services</td>\n",
       "      <td>com.google.android.gms</td>\n",
       "      <td>Tools</td>\n",
       "      <td>Google LLC</td>\n",
       "      <td>https://developers.google.com/android/google-p...</td>\n",
       "      <td>apps-help@google.com</td>\n",
       "      <td>Everyone</td>\n",
       "      <td>False</td>\n",
       "      <td>False</td>\n",
       "    </tr>\n",
       "    <tr>\n",
       "      <th>1</th>\n",
       "      <td>2</td>\n",
       "      <td>YouTube</td>\n",
       "      <td>com.google.android.youtube</td>\n",
       "      <td>Video Players &amp; Editors</td>\n",
       "      <td>Google LLC</td>\n",
       "      <td>https://support.google.com/youtube/topic/24225...</td>\n",
       "      <td>ytandroid-support@google.com</td>\n",
       "      <td>Teen</td>\n",
       "      <td>True</td>\n",
       "      <td>False</td>\n",
       "    </tr>\n",
       "    <tr>\n",
       "      <th>2</th>\n",
       "      <td>3</td>\n",
       "      <td>Google</td>\n",
       "      <td>com.google.android.googlequicksearchbox</td>\n",
       "      <td>Tools</td>\n",
       "      <td>Google LLC</td>\n",
       "      <td>https://www.google.com/search/about/</td>\n",
       "      <td>apps-help@google.com</td>\n",
       "      <td>Everyone</td>\n",
       "      <td>True</td>\n",
       "      <td>False</td>\n",
       "    </tr>\n",
       "    <tr>\n",
       "      <th>3</th>\n",
       "      <td>4</td>\n",
       "      <td>Google Maps - Navigate &amp; Explore</td>\n",
       "      <td>com.google.android.apps.maps</td>\n",
       "      <td>Travel &amp; Local</td>\n",
       "      <td>Google LLC</td>\n",
       "      <td>http://maps.google.com/about/</td>\n",
       "      <td>apps-help@google.com</td>\n",
       "      <td>Everyone</td>\n",
       "      <td>True</td>\n",
       "      <td>False</td>\n",
       "    </tr>\n",
       "    <tr>\n",
       "      <th>4</th>\n",
       "      <td>5</td>\n",
       "      <td>Google Text-to-Speech</td>\n",
       "      <td>com.google.android.tts</td>\n",
       "      <td>Tools</td>\n",
       "      <td>Google LLC</td>\n",
       "      <td>http://www.google.com/</td>\n",
       "      <td>tts-feedback@google.com</td>\n",
       "      <td>Everyone</td>\n",
       "      <td>False</td>\n",
       "      <td>False</td>\n",
       "    </tr>\n",
       "    <tr>\n",
       "      <th>...</th>\n",
       "      <td>...</td>\n",
       "      <td>...</td>\n",
       "      <td>...</td>\n",
       "      <td>...</td>\n",
       "      <td>...</td>\n",
       "      <td>...</td>\n",
       "      <td>...</td>\n",
       "      <td>...</td>\n",
       "      <td>...</td>\n",
       "      <td>...</td>\n",
       "    </tr>\n",
       "    <tr>\n",
       "      <th>65</th>\n",
       "      <td>66</td>\n",
       "      <td>Clock</td>\n",
       "      <td>com.google.android.deskclock</td>\n",
       "      <td>Tools</td>\n",
       "      <td>Google LLC</td>\n",
       "      <td>http://www.google.com/</td>\n",
       "      <td>android-clock-feedback@google.com</td>\n",
       "      <td>Everyone</td>\n",
       "      <td>False</td>\n",
       "      <td>False</td>\n",
       "    </tr>\n",
       "    <tr>\n",
       "      <th>66</th>\n",
       "      <td>67</td>\n",
       "      <td>Spotify: Listen to podcasts &amp; find music you love</td>\n",
       "      <td>com.spotify.music</td>\n",
       "      <td>Music &amp; Audio</td>\n",
       "      <td>Spotify Ltd.</td>\n",
       "      <td>https://www.spotify.com</td>\n",
       "      <td>android-support@spotify.com</td>\n",
       "      <td>Teen</td>\n",
       "      <td>True</td>\n",
       "      <td>False</td>\n",
       "    </tr>\n",
       "    <tr>\n",
       "      <th>67</th>\n",
       "      <td>68</td>\n",
       "      <td>Google Translate</td>\n",
       "      <td>com.google.android.apps.translate</td>\n",
       "      <td>Tools</td>\n",
       "      <td>Google LLC</td>\n",
       "      <td>http://support.google.com/translate</td>\n",
       "      <td>translate-mobile-support@google.com</td>\n",
       "      <td>Everyone</td>\n",
       "      <td>False</td>\n",
       "      <td>False</td>\n",
       "    </tr>\n",
       "    <tr>\n",
       "      <th>68</th>\n",
       "      <td>69</td>\n",
       "      <td>Samsung Notes</td>\n",
       "      <td>com.samsung.android.app.notes</td>\n",
       "      <td>Productivity</td>\n",
       "      <td>Samsung Electronics Co.,  Ltd.</td>\n",
       "      <td>https://samsung.com</td>\n",
       "      <td>noreply.sec@samsung.com</td>\n",
       "      <td>Everyone</td>\n",
       "      <td>False</td>\n",
       "      <td>False</td>\n",
       "    </tr>\n",
       "    <tr>\n",
       "      <th>69</th>\n",
       "      <td>70</td>\n",
       "      <td>Calculator</td>\n",
       "      <td>com.google.android.calculator</td>\n",
       "      <td>Tools</td>\n",
       "      <td>Google LLC</td>\n",
       "      <td>http://www.google.com/</td>\n",
       "      <td>android-calculator-feedback@google.com</td>\n",
       "      <td>Everyone</td>\n",
       "      <td>False</td>\n",
       "      <td>False</td>\n",
       "    </tr>\n",
       "  </tbody>\n",
       "</table>\n",
       "<p>70 rows × 10 columns</p>\n",
       "</div>"
      ],
      "text/plain": [
       "    Unnamed: 0                                           App Name  \\\n",
       "0            1                               Google Play services   \n",
       "1            2                                            YouTube   \n",
       "2            3                                             Google   \n",
       "3            4                   Google Maps - Navigate & Explore   \n",
       "4            5                              Google Text-to-Speech   \n",
       "..         ...                                                ...   \n",
       "65          66                                              Clock   \n",
       "66          67  Spotify: Listen to podcasts & find music you love   \n",
       "67          68                                   Google Translate   \n",
       "68          69                                      Samsung Notes   \n",
       "69          70                                         Calculator   \n",
       "\n",
       "                                     App Id                 Category  \\\n",
       "0                    com.google.android.gms                    Tools   \n",
       "1                com.google.android.youtube  Video Players & Editors   \n",
       "2   com.google.android.googlequicksearchbox                    Tools   \n",
       "3              com.google.android.apps.maps           Travel & Local   \n",
       "4                    com.google.android.tts                    Tools   \n",
       "..                                      ...                      ...   \n",
       "65             com.google.android.deskclock                    Tools   \n",
       "66                        com.spotify.music            Music & Audio   \n",
       "67        com.google.android.apps.translate                    Tools   \n",
       "68            com.samsung.android.app.notes             Productivity   \n",
       "69            com.google.android.calculator                    Tools   \n",
       "\n",
       "                      Developer Id  \\\n",
       "0                       Google LLC   \n",
       "1                       Google LLC   \n",
       "2                       Google LLC   \n",
       "3                       Google LLC   \n",
       "4                       Google LLC   \n",
       "..                             ...   \n",
       "65                      Google LLC   \n",
       "66                    Spotify Ltd.   \n",
       "67                      Google LLC   \n",
       "68  Samsung Electronics Co.,  Ltd.   \n",
       "69                      Google LLC   \n",
       "\n",
       "                                    Developer Website  \\\n",
       "0   https://developers.google.com/android/google-p...   \n",
       "1   https://support.google.com/youtube/topic/24225...   \n",
       "2                https://www.google.com/search/about/   \n",
       "3                       http://maps.google.com/about/   \n",
       "4                              http://www.google.com/   \n",
       "..                                                ...   \n",
       "65                             http://www.google.com/   \n",
       "66                            https://www.spotify.com   \n",
       "67                http://support.google.com/translate   \n",
       "68                                https://samsung.com   \n",
       "69                             http://www.google.com/   \n",
       "\n",
       "                           Developer Email Content Rating  Ad Supported  \\\n",
       "0                     apps-help@google.com       Everyone         False   \n",
       "1             ytandroid-support@google.com           Teen          True   \n",
       "2                     apps-help@google.com       Everyone          True   \n",
       "3                     apps-help@google.com       Everyone          True   \n",
       "4                  tts-feedback@google.com       Everyone         False   \n",
       "..                                     ...            ...           ...   \n",
       "65       android-clock-feedback@google.com       Everyone         False   \n",
       "66             android-support@spotify.com           Teen          True   \n",
       "67     translate-mobile-support@google.com       Everyone         False   \n",
       "68                 noreply.sec@samsung.com       Everyone         False   \n",
       "69  android-calculator-feedback@google.com       Everyone         False   \n",
       "\n",
       "    In App Purchases  \n",
       "0              False  \n",
       "1              False  \n",
       "2              False  \n",
       "3              False  \n",
       "4              False  \n",
       "..               ...  \n",
       "65             False  \n",
       "66             False  \n",
       "67             False  \n",
       "68             False  \n",
       "69             False  \n",
       "\n",
       "[70 rows x 10 columns]"
      ]
     },
     "execution_count": 10,
     "metadata": {},
     "output_type": "execute_result"
    }
   ],
   "source": [
    "# lets install pandas library to read csv file\n",
    "\n",
    "!pip install pandas\n",
    "import pandas as pd\n",
    "\n",
    "apps = pd.read_csv(data_dir + '/Top-Apps-in-Google-Play.csv')\n",
    "apps"
   ]
  },
  {
   "cell_type": "code",
   "execution_count": 11,
   "metadata": {},
   "outputs": [
    {
     "data": {
      "text/plain": [
       "(70, 10)"
      ]
     },
     "execution_count": 11,
     "metadata": {},
     "output_type": "execute_result"
    }
   ],
   "source": [
    "# lets look at the shape of data\n",
    "apps.shape"
   ]
  },
  {
   "cell_type": "code",
   "execution_count": 12,
   "metadata": {},
   "outputs": [
    {
     "data": {
      "text/plain": [
       "Index(['Unnamed: 0', 'App Name', 'App Id', 'Category', 'Developer Id',\n",
       "       'Developer Website', 'Developer Email', 'Content Rating',\n",
       "       'Ad Supported', 'In App Purchases'],\n",
       "      dtype='object')"
      ]
     },
     "execution_count": 12,
     "metadata": {},
     "output_type": "execute_result"
    }
   ],
   "source": [
    "#checking column names\n",
    "\n",
    "apps.columns"
   ]
  },
  {
   "cell_type": "code",
   "execution_count": 13,
   "metadata": {},
   "outputs": [
    {
     "name": "stdout",
     "output_type": "stream",
     "text": [
      "<class 'pandas.core.frame.DataFrame'>\n",
      "RangeIndex: 70 entries, 0 to 69\n",
      "Data columns (total 10 columns):\n",
      " #   Column             Non-Null Count  Dtype \n",
      "---  ------             --------------  ----- \n",
      " 0   Unnamed: 0         70 non-null     int64 \n",
      " 1   App Name           70 non-null     object\n",
      " 2   App Id             70 non-null     object\n",
      " 3   Category           70 non-null     object\n",
      " 4   Developer Id       70 non-null     object\n",
      " 5   Developer Website  70 non-null     object\n",
      " 6   Developer Email    70 non-null     object\n",
      " 7   Content Rating     70 non-null     object\n",
      " 8   Ad Supported       70 non-null     bool  \n",
      " 9   In App Purchases   70 non-null     bool  \n",
      "dtypes: bool(2), int64(1), object(7)\n",
      "memory usage: 4.6+ KB\n"
     ]
    }
   ],
   "source": [
    "# checking info\n",
    "apps.info()"
   ]
  },
  {
   "cell_type": "code",
   "execution_count": 14,
   "metadata": {},
   "outputs": [
    {
     "data": {
      "text/html": [
       "<div>\n",
       "<style scoped>\n",
       "    .dataframe tbody tr th:only-of-type {\n",
       "        vertical-align: middle;\n",
       "    }\n",
       "\n",
       "    .dataframe tbody tr th {\n",
       "        vertical-align: top;\n",
       "    }\n",
       "\n",
       "    .dataframe thead th {\n",
       "        text-align: right;\n",
       "    }\n",
       "</style>\n",
       "<table border=\"1\" class=\"dataframe\">\n",
       "  <thead>\n",
       "    <tr style=\"text-align: right;\">\n",
       "      <th></th>\n",
       "      <th>S/N</th>\n",
       "      <th>App Name</th>\n",
       "      <th>App Id</th>\n",
       "      <th>Category</th>\n",
       "      <th>Developer Id</th>\n",
       "      <th>Developer Website</th>\n",
       "      <th>Developer Email</th>\n",
       "      <th>Content Rating</th>\n",
       "      <th>Ad Supported</th>\n",
       "      <th>In App Purchases</th>\n",
       "    </tr>\n",
       "  </thead>\n",
       "  <tbody>\n",
       "    <tr>\n",
       "      <th>0</th>\n",
       "      <td>1</td>\n",
       "      <td>Google Play services</td>\n",
       "      <td>com.google.android.gms</td>\n",
       "      <td>Tools</td>\n",
       "      <td>Google LLC</td>\n",
       "      <td>https://developers.google.com/android/google-p...</td>\n",
       "      <td>apps-help@google.com</td>\n",
       "      <td>Everyone</td>\n",
       "      <td>False</td>\n",
       "      <td>False</td>\n",
       "    </tr>\n",
       "    <tr>\n",
       "      <th>1</th>\n",
       "      <td>2</td>\n",
       "      <td>YouTube</td>\n",
       "      <td>com.google.android.youtube</td>\n",
       "      <td>Video Players &amp; Editors</td>\n",
       "      <td>Google LLC</td>\n",
       "      <td>https://support.google.com/youtube/topic/24225...</td>\n",
       "      <td>ytandroid-support@google.com</td>\n",
       "      <td>Teen</td>\n",
       "      <td>True</td>\n",
       "      <td>False</td>\n",
       "    </tr>\n",
       "    <tr>\n",
       "      <th>2</th>\n",
       "      <td>3</td>\n",
       "      <td>Google</td>\n",
       "      <td>com.google.android.googlequicksearchbox</td>\n",
       "      <td>Tools</td>\n",
       "      <td>Google LLC</td>\n",
       "      <td>https://www.google.com/search/about/</td>\n",
       "      <td>apps-help@google.com</td>\n",
       "      <td>Everyone</td>\n",
       "      <td>True</td>\n",
       "      <td>False</td>\n",
       "    </tr>\n",
       "    <tr>\n",
       "      <th>3</th>\n",
       "      <td>4</td>\n",
       "      <td>Google Maps - Navigate &amp; Explore</td>\n",
       "      <td>com.google.android.apps.maps</td>\n",
       "      <td>Travel &amp; Local</td>\n",
       "      <td>Google LLC</td>\n",
       "      <td>http://maps.google.com/about/</td>\n",
       "      <td>apps-help@google.com</td>\n",
       "      <td>Everyone</td>\n",
       "      <td>True</td>\n",
       "      <td>False</td>\n",
       "    </tr>\n",
       "    <tr>\n",
       "      <th>4</th>\n",
       "      <td>5</td>\n",
       "      <td>Google Text-to-Speech</td>\n",
       "      <td>com.google.android.tts</td>\n",
       "      <td>Tools</td>\n",
       "      <td>Google LLC</td>\n",
       "      <td>http://www.google.com/</td>\n",
       "      <td>tts-feedback@google.com</td>\n",
       "      <td>Everyone</td>\n",
       "      <td>False</td>\n",
       "      <td>False</td>\n",
       "    </tr>\n",
       "    <tr>\n",
       "      <th>...</th>\n",
       "      <td>...</td>\n",
       "      <td>...</td>\n",
       "      <td>...</td>\n",
       "      <td>...</td>\n",
       "      <td>...</td>\n",
       "      <td>...</td>\n",
       "      <td>...</td>\n",
       "      <td>...</td>\n",
       "      <td>...</td>\n",
       "      <td>...</td>\n",
       "    </tr>\n",
       "    <tr>\n",
       "      <th>65</th>\n",
       "      <td>66</td>\n",
       "      <td>Clock</td>\n",
       "      <td>com.google.android.deskclock</td>\n",
       "      <td>Tools</td>\n",
       "      <td>Google LLC</td>\n",
       "      <td>http://www.google.com/</td>\n",
       "      <td>android-clock-feedback@google.com</td>\n",
       "      <td>Everyone</td>\n",
       "      <td>False</td>\n",
       "      <td>False</td>\n",
       "    </tr>\n",
       "    <tr>\n",
       "      <th>66</th>\n",
       "      <td>67</td>\n",
       "      <td>Spotify: Listen to podcasts &amp; find music you love</td>\n",
       "      <td>com.spotify.music</td>\n",
       "      <td>Music &amp; Audio</td>\n",
       "      <td>Spotify Ltd.</td>\n",
       "      <td>https://www.spotify.com</td>\n",
       "      <td>android-support@spotify.com</td>\n",
       "      <td>Teen</td>\n",
       "      <td>True</td>\n",
       "      <td>False</td>\n",
       "    </tr>\n",
       "    <tr>\n",
       "      <th>67</th>\n",
       "      <td>68</td>\n",
       "      <td>Google Translate</td>\n",
       "      <td>com.google.android.apps.translate</td>\n",
       "      <td>Tools</td>\n",
       "      <td>Google LLC</td>\n",
       "      <td>http://support.google.com/translate</td>\n",
       "      <td>translate-mobile-support@google.com</td>\n",
       "      <td>Everyone</td>\n",
       "      <td>False</td>\n",
       "      <td>False</td>\n",
       "    </tr>\n",
       "    <tr>\n",
       "      <th>68</th>\n",
       "      <td>69</td>\n",
       "      <td>Samsung Notes</td>\n",
       "      <td>com.samsung.android.app.notes</td>\n",
       "      <td>Productivity</td>\n",
       "      <td>Samsung Electronics Co.,  Ltd.</td>\n",
       "      <td>https://samsung.com</td>\n",
       "      <td>noreply.sec@samsung.com</td>\n",
       "      <td>Everyone</td>\n",
       "      <td>False</td>\n",
       "      <td>False</td>\n",
       "    </tr>\n",
       "    <tr>\n",
       "      <th>69</th>\n",
       "      <td>70</td>\n",
       "      <td>Calculator</td>\n",
       "      <td>com.google.android.calculator</td>\n",
       "      <td>Tools</td>\n",
       "      <td>Google LLC</td>\n",
       "      <td>http://www.google.com/</td>\n",
       "      <td>android-calculator-feedback@google.com</td>\n",
       "      <td>Everyone</td>\n",
       "      <td>False</td>\n",
       "      <td>False</td>\n",
       "    </tr>\n",
       "  </tbody>\n",
       "</table>\n",
       "<p>70 rows × 10 columns</p>\n",
       "</div>"
      ],
      "text/plain": [
       "    S/N                                           App Name  \\\n",
       "0     1                               Google Play services   \n",
       "1     2                                            YouTube   \n",
       "2     3                                             Google   \n",
       "3     4                   Google Maps - Navigate & Explore   \n",
       "4     5                              Google Text-to-Speech   \n",
       "..  ...                                                ...   \n",
       "65   66                                              Clock   \n",
       "66   67  Spotify: Listen to podcasts & find music you love   \n",
       "67   68                                   Google Translate   \n",
       "68   69                                      Samsung Notes   \n",
       "69   70                                         Calculator   \n",
       "\n",
       "                                     App Id                 Category  \\\n",
       "0                    com.google.android.gms                    Tools   \n",
       "1                com.google.android.youtube  Video Players & Editors   \n",
       "2   com.google.android.googlequicksearchbox                    Tools   \n",
       "3              com.google.android.apps.maps           Travel & Local   \n",
       "4                    com.google.android.tts                    Tools   \n",
       "..                                      ...                      ...   \n",
       "65             com.google.android.deskclock                    Tools   \n",
       "66                        com.spotify.music            Music & Audio   \n",
       "67        com.google.android.apps.translate                    Tools   \n",
       "68            com.samsung.android.app.notes             Productivity   \n",
       "69            com.google.android.calculator                    Tools   \n",
       "\n",
       "                      Developer Id  \\\n",
       "0                       Google LLC   \n",
       "1                       Google LLC   \n",
       "2                       Google LLC   \n",
       "3                       Google LLC   \n",
       "4                       Google LLC   \n",
       "..                             ...   \n",
       "65                      Google LLC   \n",
       "66                    Spotify Ltd.   \n",
       "67                      Google LLC   \n",
       "68  Samsung Electronics Co.,  Ltd.   \n",
       "69                      Google LLC   \n",
       "\n",
       "                                    Developer Website  \\\n",
       "0   https://developers.google.com/android/google-p...   \n",
       "1   https://support.google.com/youtube/topic/24225...   \n",
       "2                https://www.google.com/search/about/   \n",
       "3                       http://maps.google.com/about/   \n",
       "4                              http://www.google.com/   \n",
       "..                                                ...   \n",
       "65                             http://www.google.com/   \n",
       "66                            https://www.spotify.com   \n",
       "67                http://support.google.com/translate   \n",
       "68                                https://samsung.com   \n",
       "69                             http://www.google.com/   \n",
       "\n",
       "                           Developer Email Content Rating  Ad Supported  \\\n",
       "0                     apps-help@google.com       Everyone         False   \n",
       "1             ytandroid-support@google.com           Teen          True   \n",
       "2                     apps-help@google.com       Everyone          True   \n",
       "3                     apps-help@google.com       Everyone          True   \n",
       "4                  tts-feedback@google.com       Everyone         False   \n",
       "..                                     ...            ...           ...   \n",
       "65       android-clock-feedback@google.com       Everyone         False   \n",
       "66             android-support@spotify.com           Teen          True   \n",
       "67     translate-mobile-support@google.com       Everyone         False   \n",
       "68                 noreply.sec@samsung.com       Everyone         False   \n",
       "69  android-calculator-feedback@google.com       Everyone         False   \n",
       "\n",
       "    In App Purchases  \n",
       "0              False  \n",
       "1              False  \n",
       "2              False  \n",
       "3              False  \n",
       "4              False  \n",
       "..               ...  \n",
       "65             False  \n",
       "66             False  \n",
       "67             False  \n",
       "68             False  \n",
       "69             False  \n",
       "\n",
       "[70 rows x 10 columns]"
      ]
     },
     "execution_count": 14,
     "metadata": {},
     "output_type": "execute_result"
    }
   ],
   "source": [
    "# we can see that the column name 'unnamed' is just the serial number, so we will change that\n",
    "\n",
    "apps = apps.rename(columns={'Unnamed: 0': 'S/N'})\n",
    "apps"
   ]
  },
  {
   "cell_type": "code",
   "execution_count": 15,
   "metadata": {},
   "outputs": [
    {
     "data": {
      "text/html": [
       "<div>\n",
       "<style scoped>\n",
       "    .dataframe tbody tr th:only-of-type {\n",
       "        vertical-align: middle;\n",
       "    }\n",
       "\n",
       "    .dataframe tbody tr th {\n",
       "        vertical-align: top;\n",
       "    }\n",
       "\n",
       "    .dataframe thead th {\n",
       "        text-align: right;\n",
       "    }\n",
       "</style>\n",
       "<table border=\"1\" class=\"dataframe\">\n",
       "  <thead>\n",
       "    <tr style=\"text-align: right;\">\n",
       "      <th></th>\n",
       "      <th>Category</th>\n",
       "      <th>Developer Id</th>\n",
       "      <th>Content Rating</th>\n",
       "      <th>Ad Supported</th>\n",
       "      <th>In App Purchases</th>\n",
       "    </tr>\n",
       "  </thead>\n",
       "  <tbody>\n",
       "    <tr>\n",
       "      <th>0</th>\n",
       "      <td>Tools</td>\n",
       "      <td>Google LLC</td>\n",
       "      <td>Everyone</td>\n",
       "      <td>False</td>\n",
       "      <td>False</td>\n",
       "    </tr>\n",
       "    <tr>\n",
       "      <th>1</th>\n",
       "      <td>Video Players &amp; Editors</td>\n",
       "      <td>Google LLC</td>\n",
       "      <td>Teen</td>\n",
       "      <td>True</td>\n",
       "      <td>False</td>\n",
       "    </tr>\n",
       "    <tr>\n",
       "      <th>2</th>\n",
       "      <td>Tools</td>\n",
       "      <td>Google LLC</td>\n",
       "      <td>Everyone</td>\n",
       "      <td>True</td>\n",
       "      <td>False</td>\n",
       "    </tr>\n",
       "    <tr>\n",
       "      <th>3</th>\n",
       "      <td>Travel &amp; Local</td>\n",
       "      <td>Google LLC</td>\n",
       "      <td>Everyone</td>\n",
       "      <td>True</td>\n",
       "      <td>False</td>\n",
       "    </tr>\n",
       "    <tr>\n",
       "      <th>4</th>\n",
       "      <td>Tools</td>\n",
       "      <td>Google LLC</td>\n",
       "      <td>Everyone</td>\n",
       "      <td>False</td>\n",
       "      <td>False</td>\n",
       "    </tr>\n",
       "    <tr>\n",
       "      <th>...</th>\n",
       "      <td>...</td>\n",
       "      <td>...</td>\n",
       "      <td>...</td>\n",
       "      <td>...</td>\n",
       "      <td>...</td>\n",
       "    </tr>\n",
       "    <tr>\n",
       "      <th>65</th>\n",
       "      <td>Tools</td>\n",
       "      <td>Google LLC</td>\n",
       "      <td>Everyone</td>\n",
       "      <td>False</td>\n",
       "      <td>False</td>\n",
       "    </tr>\n",
       "    <tr>\n",
       "      <th>66</th>\n",
       "      <td>Music &amp; Audio</td>\n",
       "      <td>Spotify Ltd.</td>\n",
       "      <td>Teen</td>\n",
       "      <td>True</td>\n",
       "      <td>False</td>\n",
       "    </tr>\n",
       "    <tr>\n",
       "      <th>67</th>\n",
       "      <td>Tools</td>\n",
       "      <td>Google LLC</td>\n",
       "      <td>Everyone</td>\n",
       "      <td>False</td>\n",
       "      <td>False</td>\n",
       "    </tr>\n",
       "    <tr>\n",
       "      <th>68</th>\n",
       "      <td>Productivity</td>\n",
       "      <td>Samsung Electronics Co.,  Ltd.</td>\n",
       "      <td>Everyone</td>\n",
       "      <td>False</td>\n",
       "      <td>False</td>\n",
       "    </tr>\n",
       "    <tr>\n",
       "      <th>69</th>\n",
       "      <td>Tools</td>\n",
       "      <td>Google LLC</td>\n",
       "      <td>Everyone</td>\n",
       "      <td>False</td>\n",
       "      <td>False</td>\n",
       "    </tr>\n",
       "  </tbody>\n",
       "</table>\n",
       "<p>70 rows × 5 columns</p>\n",
       "</div>"
      ],
      "text/plain": [
       "                   Category                    Developer Id Content Rating  \\\n",
       "0                     Tools                      Google LLC       Everyone   \n",
       "1   Video Players & Editors                      Google LLC           Teen   \n",
       "2                     Tools                      Google LLC       Everyone   \n",
       "3            Travel & Local                      Google LLC       Everyone   \n",
       "4                     Tools                      Google LLC       Everyone   \n",
       "..                      ...                             ...            ...   \n",
       "65                    Tools                      Google LLC       Everyone   \n",
       "66            Music & Audio                    Spotify Ltd.           Teen   \n",
       "67                    Tools                      Google LLC       Everyone   \n",
       "68             Productivity  Samsung Electronics Co.,  Ltd.       Everyone   \n",
       "69                    Tools                      Google LLC       Everyone   \n",
       "\n",
       "    Ad Supported  In App Purchases  \n",
       "0          False             False  \n",
       "1           True             False  \n",
       "2           True             False  \n",
       "3           True             False  \n",
       "4          False             False  \n",
       "..           ...               ...  \n",
       "65         False             False  \n",
       "66          True             False  \n",
       "67         False             False  \n",
       "68         False             False  \n",
       "69         False             False  \n",
       "\n",
       "[70 rows x 5 columns]"
      ]
     },
     "execution_count": 15,
     "metadata": {},
     "output_type": "execute_result"
    }
   ],
   "source": [
    "# for this analysis i wouldnt be needing all columns, so its best to select what i need. I'll be needing the\n",
    "\n",
    "#Category\n",
    "#Developer ID\n",
    "#Content rating\n",
    "#Ads suportted and\n",
    "#Ads in purchase for now\n",
    "\n",
    "apps_df = apps[['Category', 'Developer Id','Content Rating','Ad Supported', 'In App Purchases' ]]\n",
    "apps_df"
   ]
  },
  {
   "cell_type": "code",
   "execution_count": 16,
   "metadata": {},
   "outputs": [],
   "source": [
    "# lastly lets examine dataframe for missing values"
   ]
  },
  {
   "cell_type": "code",
   "execution_count": 17,
   "metadata": {},
   "outputs": [
    {
     "data": {
      "text/plain": [
       "Category            0\n",
       "Developer Id        0\n",
       "Content Rating      0\n",
       "Ad Supported        0\n",
       "In App Purchases    0\n",
       "dtype: int64"
      ]
     },
     "execution_count": 17,
     "metadata": {},
     "output_type": "execute_result"
    }
   ],
   "source": [
    "apps_df.isnull().sum()\n",
    "\n",
    "# fortunately, there are no null values"
   ]
  },
  {
   "cell_type": "code",
   "execution_count": 18,
   "metadata": {},
   "outputs": [],
   "source": [
    "import jovian"
   ]
  },
  {
   "cell_type": "code",
   "execution_count": 19,
   "metadata": {},
   "outputs": [
    {
     "data": {
      "application/javascript": [
       "window.require && require([\"base/js/namespace\"],function(Jupyter){Jupyter.notebook.save_checkpoint()})"
      ],
      "text/plain": [
       "<IPython.core.display.Javascript object>"
      ]
     },
     "metadata": {},
     "output_type": "display_data"
    },
    {
     "name": "stdout",
     "output_type": "stream",
     "text": [
      "[jovian] Updating notebook \"momohemmanuel370/eda-on-top-apps-on-google-play\" on https://jovian.ai\u001b[0m\n",
      "[jovian] Committed successfully! https://jovian.ai/momohemmanuel370/eda-on-top-apps-on-google-play\u001b[0m\n"
     ]
    },
    {
     "data": {
      "text/plain": [
       "'https://jovian.ai/momohemmanuel370/eda-on-top-apps-on-google-play'"
      ]
     },
     "execution_count": 19,
     "metadata": {},
     "output_type": "execute_result"
    }
   ],
   "source": [
    "jovian.commit()"
   ]
  },
  {
   "cell_type": "markdown",
   "metadata": {},
   "source": [
    "## Exploratory Analysis and Visualization\n",
    "\n",
    "Now we are going to take a look at how popular apps are based on Category, Content rating, Developer ID, and Ads supported.\n",
    "\n",
    "We will preference  Apps under;\n",
    "\n",
    "* Content Rating\n",
    "* Category\n",
    "* Developer ID,\n",
    "* Ads supported.\n",
    "\n",
    "\n"
   ]
  },
  {
   "cell_type": "markdown",
   "metadata": {},
   "source": [
    "Let's begin by importing`matplotlib.pyplot` and `seaborn`."
   ]
  },
  {
   "cell_type": "code",
   "execution_count": 20,
   "metadata": {},
   "outputs": [],
   "source": [
    "import seaborn as sns\n",
    "import matplotlib\n",
    "import matplotlib.pyplot as plt\n",
    "%matplotlib inline\n",
    "\n",
    "sns.set_style('darkgrid')\n",
    "matplotlib.rcParams['font.size'] = 14\n",
    "matplotlib.rcParams['figure.figsize'] = (9, 5)\n",
    "matplotlib.rcParams['figure.facecolor'] = '#00000000'"
   ]
  },
  {
   "cell_type": "markdown",
   "metadata": {},
   "source": [
    "**TODO** - Lets look at the distribution of apps based on their category on Playstore"
   ]
  },
  {
   "cell_type": "code",
   "execution_count": 21,
   "metadata": {},
   "outputs": [
    {
     "data": {
      "image/png": "[encoded data removed]",
      "text/plain": [
       "<Figure size 648x360 with 1 Axes>"
      ]
     },
     "metadata": {
      "needs_background": "light"
     },
     "output_type": "display_data"
    }
   ],
   "source": [
    "# Lets use a histogram to see the distribution of apps by catergory\n",
    "apps_df['Category'].hist()\n",
    "plt.xticks(rotation=90);\n",
    "plt.xlabel('Categories')\n",
    "plt.ylabel('Distribution')\n",
    "plt.title('Distribution of Apps by Category');"
   ]
  },
  {
   "cell_type": "markdown",
   "metadata": {},
   "source": [
    "From our viz above its obvious that the most popular categories are the tools."
   ]
  },
  {
   "cell_type": "markdown",
   "metadata": {},
   "source": [
    "**TODO** - Lets look at the Developers Id, and which of the is more popular"
   ]
  },
  {
   "cell_type": "code",
   "execution_count": 22,
   "metadata": {},
   "outputs": [
    {
     "data": {
      "image/png": "[encoded data removed]",
      "text/plain": [
       "<Figure size 648x360 with 1 Axes>"
      ]
     },
     "metadata": {
      "needs_background": "light"
     },
     "output_type": "display_data"
    }
   ],
   "source": [
    "apps_df['Developer Id'].hist(color = \"darkred\")\n",
    "plt.xticks(rotation=90);\n",
    "plt.xlabel('Developer Id')\n",
    "plt.ylabel('Distribution')\n",
    "plt.title('Distribution of Apps by Developer Id');"
   ]
  },
  {
   "cell_type": "markdown",
   "metadata": {},
   "source": [
    "Google LLC seems to be more popular than others"
   ]
  },
  {
   "cell_type": "markdown",
   "metadata": {},
   "source": [
    "**TODO** - Distribution by app content"
   ]
  },
  {
   "cell_type": "code",
   "execution_count": 23,
   "metadata": {},
   "outputs": [
    {
     "data": {
      "image/png": "[encoded data removed]",
      "text/plain": [
       "<Figure size 648x360 with 1 Axes>"
      ]
     },
     "metadata": {
      "needs_background": "light"
     },
     "output_type": "display_data"
    }
   ],
   "source": [
    "# Lets use a histogram to see the distribution of apps by content Rating\n",
    "apps_df['Content Rating'].hist(color ='green')\n",
    "plt.xticks(rotation=90);\n",
    "plt.xlabel('App content')\n",
    "plt.ylabel('Distribution')\n",
    "plt.title('Distribution of Apps by Content');"
   ]
  },
  {
   "cell_type": "markdown",
   "metadata": {},
   "source": [
    "**TODO** - Lets also see how ads with ads and without are distributed"
   ]
  },
  {
   "cell_type": "code",
   "execution_count": 36,
   "metadata": {},
   "outputs": [
    {
     "data": {
      "image/png": "[encoded data removed]",
      "text/plain": [
       "<Figure size 648x360 with 1 Axes>"
      ]
     },
     "metadata": {
      "needs_background": "light"
     },
     "output_type": "display_data"
    }
   ],
   "source": [
    "# Lets use a barchat to see how apps with and wihtout ads are distributed \n",
    "sns.countplot(x='Ad Supported', data=apps_df)\n",
    "plt.xticks(rotation=90);"
   ]
  },
  {
   "cell_type": "markdown",
   "metadata": {},
   "source": [
    "As we can see above apps without ads are more than those with ads"
   ]
  },
  {
   "cell_type": "markdown",
   "metadata": {},
   "source": [
    "Let us save and upload our work to Jovian before continuing"
   ]
  },
  {
   "cell_type": "code",
   "execution_count": 37,
   "metadata": {},
   "outputs": [],
   "source": [
    "import jovian"
   ]
  },
  {
   "cell_type": "code",
   "execution_count": 38,
   "metadata": {},
   "outputs": [
    {
     "data": {
      "application/javascript": [
       "window.require && require([\"base/js/namespace\"],function(Jupyter){Jupyter.notebook.save_checkpoint()})"
      ],
      "text/plain": [
       "<IPython.core.display.Javascript object>"
      ]
     },
     "metadata": {},
     "output_type": "display_data"
    },
    {
     "name": "stdout",
     "output_type": "stream",
     "text": [
      "[jovian] Updating notebook \"momohemmanuel370/eda-on-top-apps-on-google-play\" on https://jovian.ai\u001b[0m\n",
      "[jovian] Committed successfully! https://jovian.ai/momohemmanuel370/eda-on-top-apps-on-google-play\u001b[0m\n"
     ]
    },
    {
     "data": {
      "text/plain": [
       "'https://jovian.ai/momohemmanuel370/eda-on-top-apps-on-google-play'"
      ]
     },
     "execution_count": 38,
     "metadata": {},
     "output_type": "execute_result"
    }
   ],
   "source": [
    "jovian.commit()"
   ]
  },
  {
   "cell_type": "markdown",
   "metadata": {},
   "source": [
    "## Asking and Answering Questions\n",
    "\n",
    "TODO - Now, we are going to be asking some questions to determine the popularity of apps on playstore\n",
    "\n"
   ]
  },
  {
   "cell_type": "markdown",
   "metadata": {},
   "source": [
    "#### Q1: Which Developer has the Largest number of apps on Google Play?"
   ]
  },
  {
   "cell_type": "code",
   "execution_count": 63,
   "metadata": {},
   "outputs": [
    {
     "data": {
      "image/png": "[encoded data removed]",
      "text/plain": [
       "<Figure size 576x576 with 1 Axes>"
      ]
     },
     "metadata": {
      "needs_background": "light"
     },
     "output_type": "display_data"
    }
   ],
   "source": [
    "# Lets count apps by developer ID\n",
    "Dev_id = apps_df.groupby('Developer_Id')['Developer_Id'].count()\n",
    "\n",
    "#plotting this result\n",
    "\n",
    "Dev_id.plot(kind='bar', figsize=(8,8));"
   ]
  },
  {
   "cell_type": "markdown",
   "metadata": {},
   "source": [
    "Its very Obvious that Google LLC has the highest number of apps"
   ]
  },
  {
   "cell_type": "markdown",
   "metadata": {},
   "source": [
    "#### Q2: What Category of App is the most popular on Playstore?"
   ]
  },
  {
   "cell_type": "code",
   "execution_count": 103,
   "metadata": {},
   "outputs": [
    {
     "data": {
      "text/plain": [
       "Category\n",
       "Arcade                      1\n",
       "Auto & Vehicles             1\n",
       "Books & Reference           1\n",
       "Business                    1\n",
       "Casual                      1\n",
       "Communication              12\n",
       "Entertainment               2\n",
       "Health & Fitness            1\n",
       "Music & Audio               3\n",
       "News & Magazines            2\n",
       "Personalization             1\n",
       "Photography                 2\n",
       "Productivity               13\n",
       "Social                      7\n",
       "Tools                      18\n",
       "Travel & Local              2\n",
       "Video Players & Editors     2\n",
       "Name: Category, dtype: int64"
      ]
     },
     "execution_count": 103,
     "metadata": {},
     "output_type": "execute_result"
    }
   ],
   "source": [
    "# Lets count the category of apps\n",
    "Category_count = apps_df.groupby('Category')['Category'].count()\n",
    "Category_count"
   ]
  },
  {
   "cell_type": "code",
   "execution_count": 104,
   "metadata": {},
   "outputs": [
    {
     "data": {
      "image/png": "[encoded data removed]",
      "text/plain": [
       "<Figure size 648x360 with 1 Axes>"
      ]
     },
     "metadata": {
      "needs_background": "light"
     },
     "output_type": "display_data"
    }
   ],
   "source": [
    "#lets visualize this result\n",
    "\n",
    "plt.plot(Category_count, 'o--g')\n",
    "plt.xlabel('Categories')\n",
    "plt.ylabel('Number of apps')\n",
    "plt.xticks(rotation=90)\n",
    "plt.title('Number of Apps in each Category');"
   ]
  },
  {
   "cell_type": "code",
   "execution_count": null,
   "metadata": {},
   "outputs": [],
   "source": [
    "# As we can see the 'Tools' has the most common category"
   ]
  },
  {
   "cell_type": "markdown",
   "metadata": {},
   "source": [
    "#### Q3: How many apps with 'Everyone' Content Rating are produced by Google LLC?\n"
   ]
  },
  {
   "cell_type": "code",
   "execution_count": 40,
   "metadata": {},
   "outputs": [],
   "source": [
    "# I replaced the spaces in the columns name with underscore so we can use it.\n",
    "\n",
    "apps_df.columns = [c.replace(' ', '_') for c in apps_df.columns]\n",
    "Google_Everyone = apps_df[(apps_df.Developer_Id == \"Google LLC\") & (apps_df.Content_Rating == \"Everyone\")]"
   ]
  },
  {
   "cell_type": "code",
   "execution_count": 50,
   "metadata": {},
   "outputs": [
    {
     "data": {
      "text/plain": [
       "Category            24\n",
       "Developer_Id        24\n",
       "Content_Rating      24\n",
       "Ad_Supported        24\n",
       "In_App_Purchases    24\n",
       "dtype: int64"
      ]
     },
     "execution_count": 50,
     "metadata": {},
     "output_type": "execute_result"
    }
   ],
   "source": [
    "Google_Everyone.count()"
   ]
  },
  {
   "cell_type": "markdown",
   "metadata": {},
   "source": [
    "we have 24 apps with 'Everyone' Rating produced by Google LLC"
   ]
  },
  {
   "cell_type": "markdown",
   "metadata": {},
   "source": [
    "#### Q4: Which apps are more popular among apps with In app purchase or apps without In app Purchase?"
   ]
  },
  {
   "cell_type": "code",
   "execution_count": 52,
   "metadata": {},
   "outputs": [
    {
     "data": {
      "image/png": "[encoded data removed]",
      "text/plain": [
       "<Figure size 648x360 with 1 Axes>"
      ]
     },
     "metadata": {
      "needs_background": "light"
     },
     "output_type": "display_data"
    }
   ],
   "source": [
    "# Lets use a barchat to see which apps are more popular \n",
    "sns.countplot(x='In_App_Purchases', data=apps_df)\n",
    "plt.xticks(rotation=90);"
   ]
  },
  {
   "cell_type": "markdown",
   "metadata": {},
   "source": [
    "From our visualization above, we can see that, apps without In app purchase are more popular"
   ]
  },
  {
   "cell_type": "markdown",
   "metadata": {},
   "source": [
    "#### Q5: How is content rating distributed among the number of apps available on Playstore?"
   ]
  },
  {
   "cell_type": "code",
   "execution_count": 54,
   "metadata": {},
   "outputs": [],
   "source": [
    "# Lets count apps by content rating\n",
    "Content_R = apps_df.groupby('Content_Rating')['Content_Rating'].count()"
   ]
  },
  {
   "cell_type": "code",
   "execution_count": 57,
   "metadata": {},
   "outputs": [
    {
     "data": {
      "text/plain": [
       "<AxesSubplot:ylabel='Content_Rating'>"
      ]
     },
     "execution_count": 57,
     "metadata": {},
     "output_type": "execute_result"
    },
    {
     "data": {
      "image/png": "[encoded data removed]",
      "text/plain": [
       "<Figure size 576x576 with 1 Axes>"
      ]
     },
     "metadata": {},
     "output_type": "display_data"
    }
   ],
   "source": [
    "# Now lets plot using a pie chart to visualize\n",
    "Content_R.plot(kind='pie', figsize=(8,8))"
   ]
  },
  {
   "cell_type": "markdown",
   "metadata": {},
   "source": [
    "Wow! more than 50% of apps on Playstore has content rating for everyone"
   ]
  },
  {
   "cell_type": "markdown",
   "metadata": {},
   "source": [
    "Let us save and upload our work to Jovian before continuing."
   ]
  },
  {
   "cell_type": "code",
   "execution_count": 28,
   "metadata": {},
   "outputs": [],
   "source": [
    "import jovian"
   ]
  },
  {
   "cell_type": "code",
   "execution_count": 64,
   "metadata": {},
   "outputs": [
    {
     "data": {
      "application/javascript": [
       "window.require && require([\"base/js/namespace\"],function(Jupyter){Jupyter.notebook.save_checkpoint()})"
      ],
      "text/plain": [
       "<IPython.core.display.Javascript object>"
      ]
     },
     "metadata": {},
     "output_type": "display_data"
    },
    {
     "name": "stdout",
     "output_type": "stream",
     "text": [
      "[jovian] Updating notebook \"momohemmanuel370/eda-on-top-apps-on-google-play\" on https://jovian.ai\u001b[0m\n",
      "[jovian] Committed successfully! https://jovian.ai/momohemmanuel370/eda-on-top-apps-on-google-play\u001b[0m\n"
     ]
    },
    {
     "data": {
      "text/plain": [
       "'https://jovian.ai/momohemmanuel370/eda-on-top-apps-on-google-play'"
      ]
     },
     "execution_count": 64,
     "metadata": {},
     "output_type": "execute_result"
    }
   ],
   "source": [
    "jovian.commit()"
   ]
  },
  {
   "cell_type": "markdown",
   "metadata": {},
   "source": [
    "## Inferences and Conclusion\n",
    "\n",
    " From the analysis carried on the dataset, the following inferences can be made\n",
    "\n",
    "1. Google LLC has the highest number of apps on playstore.\n",
    "2. The most popular content rating on Playstore is for everyone.\n",
    "3. Most apps on playstore are categorized under tools.\n",
    "\n",
    "In conclusion, most popular apps on playstore will either have 1 or more features of the inferences made above. \n"
   ]
  },
  {
   "cell_type": "code",
   "execution_count": 30,
   "metadata": {},
   "outputs": [],
   "source": [
    "import jovian"
   ]
  },
  {
   "cell_type": "code",
   "execution_count": 65,
   "metadata": {},
   "outputs": [
    {
     "data": {
      "application/javascript": [
       "window.require && require([\"base/js/namespace\"],function(Jupyter){Jupyter.notebook.save_checkpoint()})"
      ],
      "text/plain": [
       "<IPython.core.display.Javascript object>"
      ]
     },
     "metadata": {},
     "output_type": "display_data"
    },
    {
     "name": "stdout",
     "output_type": "stream",
     "text": [
      "[jovian] Updating notebook \"momohemmanuel370/eda-on-top-apps-on-google-play\" on https://jovian.ai\u001b[0m\n",
      "[jovian] Committed successfully! https://jovian.ai/momohemmanuel370/eda-on-top-apps-on-google-play\u001b[0m\n"
     ]
    },
    {
     "data": {
      "text/plain": [
       "'https://jovian.ai/momohemmanuel370/eda-on-top-apps-on-google-play'"
      ]
     },
     "execution_count": 65,
     "metadata": {},
     "output_type": "execute_result"
    }
   ],
   "source": [
    "jovian.commit()"
   ]
  },
  {
   "cell_type": "markdown",
   "metadata": {},
   "source": [
    "## References and Future Work\n",
    "\n",
    "For now, we have only used this dataset from exploration and visualization, for future work the dataset can be used to build a model to predict apps that will most likely be popular on playstore, Also the data can be made robust by adding information such as number of downloads within a specific time frame, countries etc..this will help us draw more insightful conclusions when exploring the data. \n",
    "\n",
    "Here are some links that were of great support to this project\n",
    "\n",
    "* [Coloring Histogram using Matplotlib](https://stackoverflow.com/questions/42172440/python-matplotlib-histogram-color)\n",
    "* [Renaming Columns in Pandas frame](https://stackoverflow.com/questions/11346283/renaming-column-names-in-pandas)\n",
    "* [Rotating text in Matplotlib](https://stackoverflow.com/questions/10998621/rotate-axis-text-in-python-matplotlib)"
   ]
  },
  {
   "cell_type": "code",
   "execution_count": 32,
   "metadata": {},
   "outputs": [],
   "source": [
    "import jovian"
   ]
  },
  {
   "cell_type": "code",
   "execution_count": null,
   "metadata": {
    "scrolled": true
   },
   "outputs": [
    {
     "data": {
      "application/javascript": [
       "window.require && require([\"base/js/namespace\"],function(Jupyter){Jupyter.notebook.save_checkpoint()})"
      ],
      "text/plain": [
       "<IPython.core.display.Javascript object>"
      ]
     },
     "metadata": {},
     "output_type": "display_data"
    }
   ],
   "source": [
    "jovian.commit()"
   ]
  },
  {
   "cell_type": "code",
   "execution_count": null,
   "metadata": {},
   "outputs": [],
   "source": []
  }
 ],
 "metadata": {
  "kernelspec": {
   "display_name": "Python 3 (ipykernel)",
   "language": "python",
   "name": "python3"
  },
  "language_info": {
   "codemirror_mode": {
    "name": "ipython",
    "version": 3
   },
   "file_extension": ".py",
   "mimetype": "text/x-python",
   "name": "python",
   "nbconvert_exporter": "python",
   "pygments_lexer": "ipython3",
   "version": "3.9.6"
  }
 },
 "nbformat": 4,
 "nbformat_minor": 4
}
